{
 "cells": [
  {
   "cell_type": "markdown",
   "id": "b012a97b-5941-4b5c-afcd-2c3f5c581da9",
   "metadata": {},
   "source": [
    "# Problem Set 5: Profit Diagram and Breakeven Points for a Short Strangle\n",
    "A short strangle is an [advanced trading strategy](https://www.tastylive.com/concepts-strategies/strangle) that involves selling both a call and a put option on the same underlying stock. In this strategy, both options have the same expiration date but different strike prices. \n",
    "\n",
    "## Learning tasks\n",
    "This example will help students learn how to compute profit, breakeven points, the probabilities of downside and upside loss, and the probability of achieving maximum profit for short strangles at expiration.\n",
    "* __Prerequisites__: load the option chain data for `62-DTE` contracts on [Micron Technology](https://www.micron.com/about), which has the ticker symbol `MU.` We'll use this data for our analysis.\n",
    "*  __Task 1__: Select the strike prices for the short strangle trade's `call` and `put` legs randomly from the `MU` options chain data.\n",
    "*  __Task 2__: Build contract models for the short `call` and `put` contract legs and compute the payoff, profit, and breakeven values for the `MU` short strangle.\n",
    "*  __Task 3__: Compute the probability of observing various scenarios for the `MU` short strangle positions. "
   ]
  },
  {
   "cell_type": "markdown",
   "id": "69223f04-3153-40d3-bec4-dc2abffe5ff5",
   "metadata": {},
   "source": [
    "## Setup\n",
    "Set up the computational environment by including the `Include.jl` file. The `Include.jl` file loads external packages, various functions we will use in the exercise, and custom types to model the components of our example problem.\n",
    "* For additional information on functions and types used in this material, see the [Julia programming language documentation](https://docs.julialang.org/en/v1/) and the [VLQuantitativeFinancePackage.jl documentation](https://github.com/varnerlab/VLQuantitativeFinancePackage.jl). "
   ]
  },
  {
   "cell_type": "code",
   "execution_count": 3,
   "id": "347931e3-d26d-4b87-879f-43662475b1e8",
   "metadata": {},
   "outputs": [],
   "source": [
    "include(\"Include.jl\");"
   ]
  },
  {
   "cell_type": "markdown",
   "id": "b7cba30d-cd8a-4d61-b28d-b35fcbe04448",
   "metadata": {
    "jp-MarkdownHeadingCollapsed": true
   },
   "source": [
    "## Prerequisites\n",
    "We'll build our short strangle using options chain data for `62-DTE` contracts on [Micron Technology](https://www.micron.com/about), which has the ticker symbol `MU.` \n",
    "* Load the options chain dataset by calling the `MyOptionsChainDataSet()` function, which returns the pricing data as a `DataFrame` instance, which is exported by the [DataFrames.jl package](https://github.com/JuliaData/DataFrames.jl). Let's save the options data in the `dataset::DataFrame` variable:"
   ]
  },
  {
   "cell_type": "code",
   "execution_count": 5,
   "id": "686f4d52-486d-42b2-b9c6-85c3b4ef2538",
   "metadata": {},
   "outputs": [
    {
     "data": {
      "text/html": [
       "<div><div style = \"float: left;\"><span>74×11 DataFrame</span></div><div style = \"float: right;\"><span style = \"font-style: italic;\">49 rows omitted</span></div><div style = \"clear: both;\"></div></div><div class = \"data-frame\" style = \"overflow-x: scroll;\"><table class = \"data-frame\" style = \"margin-bottom: 6px;\"><thead><tr class = \"header\"><th class = \"rowNumber\" style = \"font-weight: bold; text-align: right;\">Row</th><th style = \"text-align: left;\">Strike</th><th style = \"text-align: left;\">Moneyness</th><th style = \"text-align: left;\">Bid</th><th style = \"text-align: left;\">Mid</th><th style = \"text-align: left;\">Ask</th><th style = \"text-align: left;\">Last</th><th style = \"text-align: left;\">Volume</th><th style = \"text-align: left;\">Open Int</th><th style = \"text-align: left;\">Delta</th><th style = \"text-align: left;\">IV</th><th style = \"text-align: left;\">Type</th></tr><tr class = \"subheader headerLastRow\"><th class = \"rowNumber\" style = \"font-weight: bold; text-align: right;\"></th><th title = \"Float64\" style = \"text-align: left;\">Float64</th><th title = \"Float64\" style = \"text-align: left;\">Float64</th><th title = \"Float64\" style = \"text-align: left;\">Float64</th><th title = \"Float64\" style = \"text-align: left;\">Float64</th><th title = \"Float64\" style = \"text-align: left;\">Float64</th><th title = \"Float64\" style = \"text-align: left;\">Float64</th><th title = \"String7\" style = \"text-align: left;\">String7</th><th title = \"String7\" style = \"text-align: left;\">String7</th><th title = \"Float64\" style = \"text-align: left;\">Float64</th><th title = \"Float64\" style = \"text-align: left;\">Float64</th><th title = \"String7\" style = \"text-align: left;\">String7</th></tr></thead><tbody><tr><td class = \"rowNumber\" style = \"font-weight: bold; text-align: right;\">1</td><td style = \"text-align: right;\">32.5</td><td style = \"text-align: right;\">0.5912</td><td style = \"text-align: right;\">46.9</td><td style = \"text-align: right;\">47.22</td><td style = \"text-align: right;\">47.55</td><td style = \"text-align: right;\">49.16</td><td style = \"text-align: left;\">0</td><td style = \"text-align: left;\">2</td><td style = \"text-align: right;\">0.99881</td><td style = \"text-align: right;\">0.6458</td><td style = \"text-align: left;\">Call</td></tr><tr><td class = \"rowNumber\" style = \"font-weight: bold; text-align: right;\">2</td><td style = \"text-align: right;\">35.0</td><td style = \"text-align: right;\">0.5597</td><td style = \"text-align: right;\">44.4</td><td style = \"text-align: right;\">44.8</td><td style = \"text-align: right;\">45.2</td><td style = \"text-align: right;\">39.75</td><td style = \"text-align: left;\">0</td><td style = \"text-align: left;\">1</td><td style = \"text-align: right;\">0.99364</td><td style = \"text-align: right;\">0.8463</td><td style = \"text-align: left;\">Call</td></tr><tr><td class = \"rowNumber\" style = \"font-weight: bold; text-align: right;\">3</td><td style = \"text-align: right;\">37.5</td><td style = \"text-align: right;\">0.5283</td><td style = \"text-align: right;\">41.95</td><td style = \"text-align: right;\">42.33</td><td style = \"text-align: right;\">42.7</td><td style = \"text-align: right;\">0.0</td><td style = \"text-align: left;\">0</td><td style = \"text-align: left;\">0</td><td style = \"text-align: right;\">0.99303</td><td style = \"text-align: right;\">0.784</td><td style = \"text-align: left;\">Call</td></tr><tr><td class = \"rowNumber\" style = \"font-weight: bold; text-align: right;\">4</td><td style = \"text-align: right;\">40.0</td><td style = \"text-align: right;\">0.4969</td><td style = \"text-align: right;\">39.5</td><td style = \"text-align: right;\">39.9</td><td style = \"text-align: right;\">40.3</td><td style = \"text-align: right;\">46.57</td><td style = \"text-align: left;\">0</td><td style = \"text-align: left;\">24</td><td style = \"text-align: right;\">0.98822</td><td style = \"text-align: right;\">0.7904</td><td style = \"text-align: left;\">Call</td></tr><tr><td class = \"rowNumber\" style = \"font-weight: bold; text-align: right;\">5</td><td style = \"text-align: right;\">42.5</td><td style = \"text-align: right;\">0.4654</td><td style = \"text-align: right;\">36.9</td><td style = \"text-align: right;\">37.35</td><td style = \"text-align: right;\">37.8</td><td style = \"text-align: right;\">43.15</td><td style = \"text-align: left;\">0</td><td style = \"text-align: left;\">1</td><td style = \"text-align: right;\">0.99424</td><td style = \"text-align: right;\">0.6253</td><td style = \"text-align: left;\">Call</td></tr><tr><td class = \"rowNumber\" style = \"font-weight: bold; text-align: right;\">6</td><td style = \"text-align: right;\">45.0</td><td style = \"text-align: right;\">0.434</td><td style = \"text-align: right;\">34.55</td><td style = \"text-align: right;\">34.88</td><td style = \"text-align: right;\">35.2</td><td style = \"text-align: right;\">37.85</td><td style = \"text-align: left;\">0</td><td style = \"text-align: left;\">27</td><td style = \"text-align: right;\">0.9936</td><td style = \"text-align: right;\">0.5769</td><td style = \"text-align: left;\">Call</td></tr><tr><td class = \"rowNumber\" style = \"font-weight: bold; text-align: right;\">7</td><td style = \"text-align: right;\">47.5</td><td style = \"text-align: right;\">0.4025</td><td style = \"text-align: right;\">32.15</td><td style = \"text-align: right;\">32.5</td><td style = \"text-align: right;\">32.85</td><td style = \"text-align: right;\">30.35</td><td style = \"text-align: left;\">0</td><td style = \"text-align: left;\">85</td><td style = \"text-align: right;\">0.98231</td><td style = \"text-align: right;\">0.6363</td><td style = \"text-align: left;\">Call</td></tr><tr><td class = \"rowNumber\" style = \"font-weight: bold; text-align: right;\">8</td><td style = \"text-align: right;\">50.0</td><td style = \"text-align: right;\">0.3711</td><td style = \"text-align: right;\">29.65</td><td style = \"text-align: right;\">30.03</td><td style = \"text-align: right;\">30.4</td><td style = \"text-align: right;\">30.35</td><td style = \"text-align: left;\">2</td><td style = \"text-align: left;\">65</td><td style = \"text-align: right;\">0.95655</td><td style = \"text-align: right;\">0.7286</td><td style = \"text-align: left;\">Call</td></tr><tr><td class = \"rowNumber\" style = \"font-weight: bold; text-align: right;\">9</td><td style = \"text-align: right;\">55.0</td><td style = \"text-align: right;\">0.3082</td><td style = \"text-align: right;\">24.85</td><td style = \"text-align: right;\">25.2</td><td style = \"text-align: right;\">25.55</td><td style = \"text-align: right;\">25.69</td><td style = \"text-align: left;\">30</td><td style = \"text-align: left;\">377</td><td style = \"text-align: right;\">0.96381</td><td style = \"text-align: right;\">0.5384</td><td style = \"text-align: left;\">Call</td></tr><tr><td class = \"rowNumber\" style = \"font-weight: bold; text-align: right;\">10</td><td style = \"text-align: right;\">57.5</td><td style = \"text-align: right;\">0.2767</td><td style = \"text-align: right;\">22.4</td><td style = \"text-align: right;\">22.65</td><td style = \"text-align: right;\">22.9</td><td style = \"text-align: right;\">25.2</td><td style = \"text-align: left;\">0</td><td style = \"text-align: left;\">188</td><td style = \"text-align: right;\">0.96785</td><td style = \"text-align: right;\">0.4557</td><td style = \"text-align: left;\">Call</td></tr><tr><td class = \"rowNumber\" style = \"font-weight: bold; text-align: right;\">11</td><td style = \"text-align: right;\">60.0</td><td style = \"text-align: right;\">0.2453</td><td style = \"text-align: right;\">19.95</td><td style = \"text-align: right;\">20.35</td><td style = \"text-align: right;\">20.75</td><td style = \"text-align: right;\">22.45</td><td style = \"text-align: left;\">3</td><td style = \"text-align: left;\">167</td><td style = \"text-align: right;\">0.94546</td><td style = \"text-align: right;\">0.464</td><td style = \"text-align: left;\">Call</td></tr><tr><td class = \"rowNumber\" style = \"font-weight: bold; text-align: right;\">12</td><td style = \"text-align: right;\">62.5</td><td style = \"text-align: right;\">0.2138</td><td style = \"text-align: right;\">17.9</td><td style = \"text-align: right;\">18.17</td><td style = \"text-align: right;\">18.45</td><td style = \"text-align: right;\">18.45</td><td style = \"text-align: left;\">2</td><td style = \"text-align: left;\">328</td><td style = \"text-align: right;\">0.89447</td><td style = \"text-align: right;\">0.5267</td><td style = \"text-align: left;\">Call</td></tr><tr><td class = \"rowNumber\" style = \"font-weight: bold; text-align: right;\">13</td><td style = \"text-align: right;\">65.0</td><td style = \"text-align: right;\">0.1824</td><td style = \"text-align: right;\">15.7</td><td style = \"text-align: right;\">15.8</td><td style = \"text-align: right;\">15.9</td><td style = \"text-align: right;\">16.17</td><td style = \"text-align: left;\">16</td><td style = \"text-align: left;\">336</td><td style = \"text-align: right;\">0.89434</td><td style = \"text-align: right;\">0.4369</td><td style = \"text-align: left;\">Call</td></tr><tr><td style = \"text-align: right;\">&vellip;</td><td style = \"text-align: right;\">&vellip;</td><td style = \"text-align: right;\">&vellip;</td><td style = \"text-align: right;\">&vellip;</td><td style = \"text-align: right;\">&vellip;</td><td style = \"text-align: right;\">&vellip;</td><td style = \"text-align: right;\">&vellip;</td><td style = \"text-align: right;\">&vellip;</td><td style = \"text-align: right;\">&vellip;</td><td style = \"text-align: right;\">&vellip;</td><td style = \"text-align: right;\">&vellip;</td><td style = \"text-align: right;\">&vellip;</td></tr><tr><td class = \"rowNumber\" style = \"font-weight: bold; text-align: right;\">63</td><td style = \"text-align: right;\">97.5</td><td style = \"text-align: right;\">0.2264</td><td style = \"text-align: right;\">18.15</td><td style = \"text-align: right;\">18.28</td><td style = \"text-align: right;\">18.4</td><td style = \"text-align: right;\">15.35</td><td style = \"text-align: left;\">0</td><td style = \"text-align: left;\">29</td><td style = \"text-align: right;\">-0.90455</td><td style = \"text-align: right;\">0.3895</td><td style = \"text-align: left;\">Put</td></tr><tr><td class = \"rowNumber\" style = \"font-weight: bold; text-align: right;\">64</td><td style = \"text-align: right;\">100.0</td><td style = \"text-align: right;\">0.2579</td><td style = \"text-align: right;\">20.25</td><td style = \"text-align: right;\">20.55</td><td style = \"text-align: right;\">20.85</td><td style = \"text-align: right;\">20.85</td><td style = \"text-align: left;\">6</td><td style = \"text-align: left;\">67</td><td style = \"text-align: right;\">-0.89987</td><td style = \"text-align: right;\">0.4386</td><td style = \"text-align: left;\">Put</td></tr><tr><td class = \"rowNumber\" style = \"font-weight: bold; text-align: right;\">65</td><td style = \"text-align: right;\">105.0</td><td style = \"text-align: right;\">0.3208</td><td style = \"text-align: right;\">25.0</td><td style = \"text-align: right;\">25.55</td><td style = \"text-align: right;\">26.1</td><td style = \"text-align: right;\">23.03</td><td style = \"text-align: left;\">3</td><td style = \"text-align: left;\">2</td><td style = \"text-align: right;\">-0.95963</td><td style = \"text-align: right;\">0.4274</td><td style = \"text-align: left;\">Put</td></tr><tr><td class = \"rowNumber\" style = \"font-weight: bold; text-align: right;\">66</td><td style = \"text-align: right;\">110.0</td><td style = \"text-align: right;\">0.3836</td><td style = \"text-align: right;\">30.1</td><td style = \"text-align: right;\">30.5</td><td style = \"text-align: right;\">30.9</td><td style = \"text-align: right;\">0.0</td><td style = \"text-align: left;\">0</td><td style = \"text-align: left;\">0</td><td style = \"text-align: right;\">0.0</td><td style = \"text-align: right;\">0.0</td><td style = \"text-align: left;\">Put</td></tr><tr><td class = \"rowNumber\" style = \"font-weight: bold; text-align: right;\">67</td><td style = \"text-align: right;\">115.0</td><td style = \"text-align: right;\">0.4465</td><td style = \"text-align: right;\">35.15</td><td style = \"text-align: right;\">35.55</td><td style = \"text-align: right;\">35.95</td><td style = \"text-align: right;\">0.0</td><td style = \"text-align: left;\">0</td><td style = \"text-align: left;\">0</td><td style = \"text-align: right;\">-0.97452</td><td style = \"text-align: right;\">0.5366</td><td style = \"text-align: left;\">Put</td></tr><tr><td class = \"rowNumber\" style = \"font-weight: bold; text-align: right;\">68</td><td style = \"text-align: right;\">120.0</td><td style = \"text-align: right;\">0.5094</td><td style = \"text-align: right;\">39.9</td><td style = \"text-align: right;\">40.43</td><td style = \"text-align: right;\">40.95</td><td style = \"text-align: right;\">0.0</td><td style = \"text-align: left;\">0</td><td style = \"text-align: left;\">0</td><td style = \"text-align: right;\">-0.91343</td><td style = \"text-align: right;\">0.7005</td><td style = \"text-align: left;\">Put</td></tr><tr><td class = \"rowNumber\" style = \"font-weight: bold; text-align: right;\">69</td><td style = \"text-align: right;\">125.0</td><td style = \"text-align: right;\">0.5723</td><td style = \"text-align: right;\">44.9</td><td style = \"text-align: right;\">45.43</td><td style = \"text-align: right;\">45.95</td><td style = \"text-align: right;\">0.0</td><td style = \"text-align: left;\">0</td><td style = \"text-align: left;\">0</td><td style = \"text-align: right;\">-0.9202</td><td style = \"text-align: right;\">0.7526</td><td style = \"text-align: left;\">Put</td></tr><tr><td class = \"rowNumber\" style = \"font-weight: bold; text-align: right;\">70</td><td style = \"text-align: right;\">130.0</td><td style = \"text-align: right;\">0.6352</td><td style = \"text-align: right;\">49.9</td><td style = \"text-align: right;\">50.43</td><td style = \"text-align: right;\">50.95</td><td style = \"text-align: right;\">0.0</td><td style = \"text-align: left;\">0</td><td style = \"text-align: left;\">0</td><td style = \"text-align: right;\">-0.9231</td><td style = \"text-align: right;\">0.8019</td><td style = \"text-align: left;\">Put</td></tr><tr><td class = \"rowNumber\" style = \"font-weight: bold; text-align: right;\">71</td><td style = \"text-align: right;\">135.0</td><td style = \"text-align: right;\">0.6981</td><td style = \"text-align: right;\">55.0</td><td style = \"text-align: right;\">55.45</td><td style = \"text-align: right;\">55.9</td><td style = \"text-align: right;\">0.0</td><td style = \"text-align: left;\">0</td><td style = \"text-align: left;\">0</td><td style = \"text-align: right;\">-0.93076</td><td style = \"text-align: right;\">0.8373</td><td style = \"text-align: left;\">Put</td></tr><tr><td class = \"rowNumber\" style = \"font-weight: bold; text-align: right;\">72</td><td style = \"text-align: right;\">140.0</td><td style = \"text-align: right;\">0.761</td><td style = \"text-align: right;\">59.9</td><td style = \"text-align: right;\">60.4</td><td style = \"text-align: right;\">60.9</td><td style = \"text-align: right;\">0.0</td><td style = \"text-align: left;\">0</td><td style = \"text-align: left;\">0</td><td style = \"text-align: right;\">-0.93266</td><td style = \"text-align: right;\">0.8817</td><td style = \"text-align: left;\">Put</td></tr><tr><td class = \"rowNumber\" style = \"font-weight: bold; text-align: right;\">73</td><td style = \"text-align: right;\">145.0</td><td style = \"text-align: right;\">0.8239</td><td style = \"text-align: right;\">64.9</td><td style = \"text-align: right;\">65.4</td><td style = \"text-align: right;\">65.9</td><td style = \"text-align: right;\">0.0</td><td style = \"text-align: left;\">0</td><td style = \"text-align: left;\">0</td><td style = \"text-align: right;\">-0.93455</td><td style = \"text-align: right;\">0.9243</td><td style = \"text-align: left;\">Put</td></tr><tr><td class = \"rowNumber\" style = \"font-weight: bold; text-align: right;\">74</td><td style = \"text-align: right;\">150.0</td><td style = \"text-align: right;\">0.8868</td><td style = \"text-align: right;\">70.15</td><td style = \"text-align: right;\">70.55</td><td style = \"text-align: right;\">70.95</td><td style = \"text-align: right;\">66.15</td><td style = \"text-align: left;\">0</td><td style = \"text-align: left;\">0</td><td style = \"text-align: right;\">-0.97978</td><td style = \"text-align: right;\">0.8396</td><td style = \"text-align: left;\">Put</td></tr></tbody></table></div>"
      ],
      "text/latex": [
       "\\begin{tabular}{r|cccccccccc}\n",
       "\t& Strike & Moneyness & Bid & Mid & Ask & Last & Volume & Open Int & Delta & \\\\\n",
       "\t\\hline\n",
       "\t& Float64 & Float64 & Float64 & Float64 & Float64 & Float64 & String7 & String7 & Float64 & \\\\\n",
       "\t\\hline\n",
       "\t1 & 32.5 & 0.5912 & 46.9 & 47.22 & 47.55 & 49.16 & 0 & 2 & 0.99881 & $\\dots$ \\\\\n",
       "\t2 & 35.0 & 0.5597 & 44.4 & 44.8 & 45.2 & 39.75 & 0 & 1 & 0.99364 & $\\dots$ \\\\\n",
       "\t3 & 37.5 & 0.5283 & 41.95 & 42.33 & 42.7 & 0.0 & 0 & 0 & 0.99303 & $\\dots$ \\\\\n",
       "\t4 & 40.0 & 0.4969 & 39.5 & 39.9 & 40.3 & 46.57 & 0 & 24 & 0.98822 & $\\dots$ \\\\\n",
       "\t5 & 42.5 & 0.4654 & 36.9 & 37.35 & 37.8 & 43.15 & 0 & 1 & 0.99424 & $\\dots$ \\\\\n",
       "\t6 & 45.0 & 0.434 & 34.55 & 34.88 & 35.2 & 37.85 & 0 & 27 & 0.9936 & $\\dots$ \\\\\n",
       "\t7 & 47.5 & 0.4025 & 32.15 & 32.5 & 32.85 & 30.35 & 0 & 85 & 0.98231 & $\\dots$ \\\\\n",
       "\t8 & 50.0 & 0.3711 & 29.65 & 30.03 & 30.4 & 30.35 & 2 & 65 & 0.95655 & $\\dots$ \\\\\n",
       "\t9 & 55.0 & 0.3082 & 24.85 & 25.2 & 25.55 & 25.69 & 30 & 377 & 0.96381 & $\\dots$ \\\\\n",
       "\t10 & 57.5 & 0.2767 & 22.4 & 22.65 & 22.9 & 25.2 & 0 & 188 & 0.96785 & $\\dots$ \\\\\n",
       "\t11 & 60.0 & 0.2453 & 19.95 & 20.35 & 20.75 & 22.45 & 3 & 167 & 0.94546 & $\\dots$ \\\\\n",
       "\t12 & 62.5 & 0.2138 & 17.9 & 18.17 & 18.45 & 18.45 & 2 & 328 & 0.89447 & $\\dots$ \\\\\n",
       "\t13 & 65.0 & 0.1824 & 15.7 & 15.8 & 15.9 & 16.17 & 16 & 336 & 0.89434 & $\\dots$ \\\\\n",
       "\t14 & 67.5 & 0.1509 & 13.55 & 13.65 & 13.75 & 14.05 & 6 & 601 & 0.85654 & $\\dots$ \\\\\n",
       "\t15 & 70.0 & 0.1195 & 11.55 & 11.63 & 11.7 & 11.6 & 217 & 1,477 & 0.81008 & $\\dots$ \\\\\n",
       "\t16 & 72.5 & 0.0881 & 9.65 & 9.75 & 9.85 & 10.18 & 4 & 1,037 & 0.75127 & $\\dots$ \\\\\n",
       "\t17 & 75.0 & 0.0566 & 8.0 & 8.05 & 8.1 & 8.1 & 574 & 1,767 & 0.68398 & $\\dots$ \\\\\n",
       "\t18 & 77.5 & 0.0252 & 6.45 & 6.53 & 6.6 & 6.5 & 402 & 409 & 0.61315 & $\\dots$ \\\\\n",
       "\t19 & 80.0 & -0.0063 & 5.15 & 5.2 & 5.25 & 5.21 & 827 & 4,243 & 0.53687 & $\\dots$ \\\\\n",
       "\t20 & 82.5 & -0.0377 & 4.05 & 4.1 & 4.15 & 4.11 & 573 & 5,190 & 0.4609 & $\\dots$ \\\\\n",
       "\t21 & 85.0 & -0.0692 & 3.1 & 3.15 & 3.2 & 3.15 & 22,430 & 23,281 & 0.38647 & $\\dots$ \\\\\n",
       "\t22 & 87.5 & -0.1006 & 2.41 & 2.44 & 2.46 & 2.4 & 1,183 & 9,508 & 0.31992 & $\\dots$ \\\\\n",
       "\t23 & 90.0 & -0.1321 & 1.84 & 1.87 & 1.89 & 1.89 & 2,868 & 9,954 & 0.26252 & $\\dots$ \\\\\n",
       "\t24 & 92.5 & -0.1635 & 1.41 & 1.43 & 1.45 & 1.44 & 5,563 & 9,912 & 0.21183 & $\\dots$ \\\\\n",
       "\t25 & 95.0 & -0.195 & 1.07 & 1.12 & 1.16 & 1.16 & 103 & 7,270 & 0.17495 & $\\dots$ \\\\\n",
       "\t26 & 97.5 & -0.2264 & 0.82 & 0.85 & 0.88 & 0.9 & 41 & 391 & 0.13641 & $\\dots$ \\\\\n",
       "\t27 & 100.0 & -0.2579 & 0.64 & 0.66 & 0.68 & 0.68 & 702 & 10,624 & 0.11153 & $\\dots$ \\\\\n",
       "\t28 & 105.0 & -0.3208 & 0.39 & 0.41 & 0.42 & 0.41 & 1,302 & 6,662 & 0.07138 & $\\dots$ \\\\\n",
       "\t29 & 110.0 & -0.3836 & 0.24 & 0.26 & 0.28 & 0.27 & 29 & 675 & 0.04828 & $\\dots$ \\\\\n",
       "\t30 & 115.0 & -0.4465 & 0.16 & 0.18 & 0.19 & 0.17 & 138 & 3,507 & 0.03156 & $\\dots$ \\\\\n",
       "\t$\\dots$ & $\\dots$ & $\\dots$ & $\\dots$ & $\\dots$ & $\\dots$ & $\\dots$ & $\\dots$ & $\\dots$ & $\\dots$ &  \\\\\n",
       "\\end{tabular}\n"
      ],
      "text/plain": [
       "\u001b[1m74×11 DataFrame\u001b[0m\n",
       "\u001b[1m Row \u001b[0m│\u001b[1m Strike  \u001b[0m\u001b[1m Moneyness \u001b[0m\u001b[1m Bid     \u001b[0m\u001b[1m Mid     \u001b[0m\u001b[1m Ask     \u001b[0m\u001b[1m Last    \u001b[0m\u001b[1m Volume  \u001b[0m\u001b[1m Open I\u001b[0m ⋯\n",
       "     │\u001b[90m Float64 \u001b[0m\u001b[90m Float64   \u001b[0m\u001b[90m Float64 \u001b[0m\u001b[90m Float64 \u001b[0m\u001b[90m Float64 \u001b[0m\u001b[90m Float64 \u001b[0m\u001b[90m String7 \u001b[0m\u001b[90m String\u001b[0m ⋯\n",
       "─────┼──────────────────────────────────────────────────────────────────────────\n",
       "   1 │    32.5     0.5912    46.9     47.22    47.55    49.16  0        2      ⋯\n",
       "   2 │    35.0     0.5597    44.4     44.8     45.2     39.75  0        1\n",
       "   3 │    37.5     0.5283    41.95    42.33    42.7      0.0   0        0\n",
       "   4 │    40.0     0.4969    39.5     39.9     40.3     46.57  0        24\n",
       "   5 │    42.5     0.4654    36.9     37.35    37.8     43.15  0        1      ⋯\n",
       "   6 │    45.0     0.434     34.55    34.88    35.2     37.85  0        27\n",
       "   7 │    47.5     0.4025    32.15    32.5     32.85    30.35  0        85\n",
       "   8 │    50.0     0.3711    29.65    30.03    30.4     30.35  2        65\n",
       "   9 │    55.0     0.3082    24.85    25.2     25.55    25.69  30       377    ⋯\n",
       "  10 │    57.5     0.2767    22.4     22.65    22.9     25.2   0        188\n",
       "  11 │    60.0     0.2453    19.95    20.35    20.75    22.45  3        167\n",
       "  ⋮  │    ⋮         ⋮         ⋮        ⋮        ⋮        ⋮        ⋮        ⋮   ⋱\n",
       "  65 │   105.0     0.3208    25.0     25.55    26.1     23.03  3        2\n",
       "  66 │   110.0     0.3836    30.1     30.5     30.9      0.0   0        0      ⋯\n",
       "  67 │   115.0     0.4465    35.15    35.55    35.95     0.0   0        0\n",
       "  68 │   120.0     0.5094    39.9     40.43    40.95     0.0   0        0\n",
       "  69 │   125.0     0.5723    44.9     45.43    45.95     0.0   0        0\n",
       "  70 │   130.0     0.6352    49.9     50.43    50.95     0.0   0        0      ⋯\n",
       "  71 │   135.0     0.6981    55.0     55.45    55.9      0.0   0        0\n",
       "  72 │   140.0     0.761     59.9     60.4     60.9      0.0   0        0\n",
       "  73 │   145.0     0.8239    64.9     65.4     65.9      0.0   0        0\n",
       "  74 │   150.0     0.8868    70.15    70.55    70.95    66.15  0        0      ⋯\n",
       "\u001b[36m                                                   4 columns and 53 rows omitted\u001b[0m"
      ]
     },
     "execution_count": 5,
     "metadata": {},
     "output_type": "execute_result"
    }
   ],
   "source": [
    "dataset = MyOptionsChainDataSet()"
   ]
  },
  {
   "cell_type": "markdown",
   "id": "f1567551-eea4-4246-a65a-bb858af9e565",
   "metadata": {},
   "source": [
    "Set some constant values that we'll use in the subsequent calculation. See the comment next to the value for a description of what it is, its permissible values, etc."
   ]
  },
  {
   "cell_type": "code",
   "execution_count": 7,
   "id": "563610d4-20d1-4ad8-aa7e-65dbe0430260",
   "metadata": {},
   "outputs": [],
   "source": [
    "DTE = 62.0; # days to expiration\n",
    "Sₒ = 79.50; # MU underlying share price USD/share\n",
    "Δt = (1/365); # Time step 1-trading day\n",
    "risk_free_rate = 0.0431; # yield 10-year treasury note on 13-Jun-2024\n",
    "h = 366; # 6-points per day\n",
    "w = 0.3; # width parameter"
   ]
  },
  {
   "cell_type": "markdown",
   "id": "63d7a799-0575-4598-8f46-39d371dd4f7a",
   "metadata": {},
   "source": [
    "## Task 1: Select the strike prices for the `call` and `put` legs of the strangle\n",
    "In this task, we'll select random put and call contracts (from which we construct our strangle) from the `MU` options chain data.\n",
    "Let the `put` leg of the stangle have index `1`, and the `call` leg have index `2`. \n",
    "* __Setup__: For our short strangle, the strike price of the `put` leg $K_{1}$ will be less than the strike price of the `call` leg $K_{2}$ and the initial share price $S_{\\circ}$. On the other hand, the strike price of the `call` leg $K_{2}$ will be greater than the initial share price $S_{\\circ}$. Thus, the `put` and `call` legs will bracket the initial share price, i.e., $K_{1}<S_{\\circ}<K_{2}$. Let's select random strike prices for the `put` and `call` legs such that the $K_{1}<S_{\\circ}<K_{2}$ inequality is true.\n",
    "\n",
    "Starting with the `put` contracts, filter the `dataset` to find the `put` contracts such that $\\left(1-w\\right)\\cdot{S}_{\\circ}\\leq{K_{1}}<S_{\\circ}$, where the $w>0$-value is specified above. This will give `put` contracts with strikes less than the initial share price but not too far away from the money.\n",
    "\n",
    "To do this, we'll use the [filter function](https://dataframes.juliadata.org/stable/lib/functions/#Base.filter) exported by the [DataFrames.jl package](https://github.com/JuliaData/DataFrames.jl) in combination with the [Julia pipe operator](https://docs.julialang.org/en/v1/manual/functions/#Function-composition-and-piping). Save the filtered selection of `put` contracts in the `put_contracts::DataFrame` variable:"
   ]
  },
  {
   "cell_type": "code",
   "execution_count": 9,
   "id": "5bc4c4b5-cda2-403f-bcde-4971b072e99c",
   "metadata": {},
   "outputs": [
    {
     "data": {
      "text/html": [
       "<div><div style = \"float: left;\"><span>9×11 DataFrame</span></div><div style = \"clear: both;\"></div></div><div class = \"data-frame\" style = \"overflow-x: scroll;\"><table class = \"data-frame\" style = \"margin-bottom: 6px;\"><thead><tr class = \"header\"><th class = \"rowNumber\" style = \"font-weight: bold; text-align: right;\">Row</th><th style = \"text-align: left;\">Strike</th><th style = \"text-align: left;\">Moneyness</th><th style = \"text-align: left;\">Bid</th><th style = \"text-align: left;\">Mid</th><th style = \"text-align: left;\">Ask</th><th style = \"text-align: left;\">Last</th><th style = \"text-align: left;\">Volume</th><th style = \"text-align: left;\">Open Int</th><th style = \"text-align: left;\">Delta</th><th style = \"text-align: left;\">IV</th><th style = \"text-align: left;\">Type</th></tr><tr class = \"subheader headerLastRow\"><th class = \"rowNumber\" style = \"font-weight: bold; text-align: right;\"></th><th title = \"Float64\" style = \"text-align: left;\">Float64</th><th title = \"Float64\" style = \"text-align: left;\">Float64</th><th title = \"Float64\" style = \"text-align: left;\">Float64</th><th title = \"Float64\" style = \"text-align: left;\">Float64</th><th title = \"Float64\" style = \"text-align: left;\">Float64</th><th title = \"Float64\" style = \"text-align: left;\">Float64</th><th title = \"String7\" style = \"text-align: left;\">String7</th><th title = \"String7\" style = \"text-align: left;\">String7</th><th title = \"Float64\" style = \"text-align: left;\">Float64</th><th title = \"Float64\" style = \"text-align: left;\">Float64</th><th title = \"String7\" style = \"text-align: left;\">String7</th></tr></thead><tbody><tr><td class = \"rowNumber\" style = \"font-weight: bold; text-align: right;\">1</td><td style = \"text-align: right;\">57.5</td><td style = \"text-align: right;\">-0.2767</td><td style = \"text-align: right;\">0.28</td><td style = \"text-align: right;\">0.3</td><td style = \"text-align: right;\">0.31</td><td style = \"text-align: right;\">0.3</td><td style = \"text-align: left;\">25</td><td style = \"text-align: left;\">1,084</td><td style = \"text-align: right;\">-0.04209</td><td style = \"text-align: right;\">0.4954</td><td style = \"text-align: left;\">Put</td></tr><tr><td class = \"rowNumber\" style = \"font-weight: bold; text-align: right;\">2</td><td style = \"text-align: right;\">60.0</td><td style = \"text-align: right;\">-0.2453</td><td style = \"text-align: right;\">0.38</td><td style = \"text-align: right;\">0.4</td><td style = \"text-align: right;\">0.42</td><td style = \"text-align: right;\">0.4</td><td style = \"text-align: left;\">27</td><td style = \"text-align: left;\">2,485</td><td style = \"text-align: right;\">-0.05638</td><td style = \"text-align: right;\">0.4712</td><td style = \"text-align: left;\">Put</td></tr><tr><td class = \"rowNumber\" style = \"font-weight: bold; text-align: right;\">3</td><td style = \"text-align: right;\">62.5</td><td style = \"text-align: right;\">-0.2138</td><td style = \"text-align: right;\">0.55</td><td style = \"text-align: right;\">0.57</td><td style = \"text-align: right;\">0.58</td><td style = \"text-align: right;\">0.52</td><td style = \"text-align: left;\">1</td><td style = \"text-align: left;\">4,261</td><td style = \"text-align: right;\">-0.07795</td><td style = \"text-align: right;\">0.4545</td><td style = \"text-align: left;\">Put</td></tr><tr><td class = \"rowNumber\" style = \"font-weight: bold; text-align: right;\">4</td><td style = \"text-align: right;\">65.0</td><td style = \"text-align: right;\">-0.1824</td><td style = \"text-align: right;\">0.74</td><td style = \"text-align: right;\">0.78</td><td style = \"text-align: right;\">0.81</td><td style = \"text-align: right;\">0.78</td><td style = \"text-align: left;\">2</td><td style = \"text-align: left;\">2,156</td><td style = \"text-align: right;\">-0.10551</td><td style = \"text-align: right;\">0.4368</td><td style = \"text-align: left;\">Put</td></tr><tr><td class = \"rowNumber\" style = \"font-weight: bold; text-align: right;\">5</td><td style = \"text-align: right;\">67.5</td><td style = \"text-align: right;\">-0.1509</td><td style = \"text-align: right;\">1.07</td><td style = \"text-align: right;\">1.1</td><td style = \"text-align: right;\">1.13</td><td style = \"text-align: right;\">1.13</td><td style = \"text-align: left;\">23</td><td style = \"text-align: left;\">1,324</td><td style = \"text-align: right;\">-0.14498</td><td style = \"text-align: right;\">0.428</td><td style = \"text-align: left;\">Put</td></tr><tr><td class = \"rowNumber\" style = \"font-weight: bold; text-align: right;\">6</td><td style = \"text-align: right;\">70.0</td><td style = \"text-align: right;\">-0.1195</td><td style = \"text-align: right;\">1.53</td><td style = \"text-align: right;\">1.56</td><td style = \"text-align: right;\">1.58</td><td style = \"text-align: right;\">1.62</td><td style = \"text-align: left;\">614</td><td style = \"text-align: left;\">4,069</td><td style = \"text-align: right;\">-0.19147</td><td style = \"text-align: right;\">0.4149</td><td style = \"text-align: left;\">Put</td></tr><tr><td class = \"rowNumber\" style = \"font-weight: bold; text-align: right;\">7</td><td style = \"text-align: right;\">72.5</td><td style = \"text-align: right;\">-0.0881</td><td style = \"text-align: right;\">2.13</td><td style = \"text-align: right;\">2.16</td><td style = \"text-align: right;\">2.18</td><td style = \"text-align: right;\">2.21</td><td style = \"text-align: left;\">865</td><td style = \"text-align: left;\">2,992</td><td style = \"text-align: right;\">-0.24963</td><td style = \"text-align: right;\">0.407</td><td style = \"text-align: left;\">Put</td></tr><tr><td class = \"rowNumber\" style = \"font-weight: bold; text-align: right;\">8</td><td style = \"text-align: right;\">75.0</td><td style = \"text-align: right;\">-0.0566</td><td style = \"text-align: right;\">2.9</td><td style = \"text-align: right;\">2.93</td><td style = \"text-align: right;\">2.96</td><td style = \"text-align: right;\">2.97</td><td style = \"text-align: left;\">559</td><td style = \"text-align: left;\">3,034</td><td style = \"text-align: right;\">-0.31662</td><td style = \"text-align: right;\">0.4005</td><td style = \"text-align: left;\">Put</td></tr><tr><td class = \"rowNumber\" style = \"font-weight: bold; text-align: right;\">9</td><td style = \"text-align: right;\">77.5</td><td style = \"text-align: right;\">-0.0252</td><td style = \"text-align: right;\">3.85</td><td style = \"text-align: right;\">3.9</td><td style = \"text-align: right;\">3.95</td><td style = \"text-align: right;\">4.0</td><td style = \"text-align: left;\">456</td><td style = \"text-align: left;\">4,873</td><td style = \"text-align: right;\">-0.39082</td><td style = \"text-align: right;\">0.3954</td><td style = \"text-align: left;\">Put</td></tr></tbody></table></div>"
      ],
      "text/latex": [
       "\\begin{tabular}{r|cccccccccc}\n",
       "\t& Strike & Moneyness & Bid & Mid & Ask & Last & Volume & Open Int & Delta & \\\\\n",
       "\t\\hline\n",
       "\t& Float64 & Float64 & Float64 & Float64 & Float64 & Float64 & String7 & String7 & Float64 & \\\\\n",
       "\t\\hline\n",
       "\t1 & 57.5 & -0.2767 & 0.28 & 0.3 & 0.31 & 0.3 & 25 & 1,084 & -0.04209 & $\\dots$ \\\\\n",
       "\t2 & 60.0 & -0.2453 & 0.38 & 0.4 & 0.42 & 0.4 & 27 & 2,485 & -0.05638 & $\\dots$ \\\\\n",
       "\t3 & 62.5 & -0.2138 & 0.55 & 0.57 & 0.58 & 0.52 & 1 & 4,261 & -0.07795 & $\\dots$ \\\\\n",
       "\t4 & 65.0 & -0.1824 & 0.74 & 0.78 & 0.81 & 0.78 & 2 & 2,156 & -0.10551 & $\\dots$ \\\\\n",
       "\t5 & 67.5 & -0.1509 & 1.07 & 1.1 & 1.13 & 1.13 & 23 & 1,324 & -0.14498 & $\\dots$ \\\\\n",
       "\t6 & 70.0 & -0.1195 & 1.53 & 1.56 & 1.58 & 1.62 & 614 & 4,069 & -0.19147 & $\\dots$ \\\\\n",
       "\t7 & 72.5 & -0.0881 & 2.13 & 2.16 & 2.18 & 2.21 & 865 & 2,992 & -0.24963 & $\\dots$ \\\\\n",
       "\t8 & 75.0 & -0.0566 & 2.9 & 2.93 & 2.96 & 2.97 & 559 & 3,034 & -0.31662 & $\\dots$ \\\\\n",
       "\t9 & 77.5 & -0.0252 & 3.85 & 3.9 & 3.95 & 4.0 & 456 & 4,873 & -0.39082 & $\\dots$ \\\\\n",
       "\\end{tabular}\n"
      ],
      "text/plain": [
       "\u001b[1m9×11 DataFrame\u001b[0m\n",
       "\u001b[1m Row \u001b[0m│\u001b[1m Strike  \u001b[0m\u001b[1m Moneyness \u001b[0m\u001b[1m Bid     \u001b[0m\u001b[1m Mid     \u001b[0m\u001b[1m Ask     \u001b[0m\u001b[1m Last    \u001b[0m\u001b[1m Volume  \u001b[0m\u001b[1m Open I\u001b[0m ⋯\n",
       "     │\u001b[90m Float64 \u001b[0m\u001b[90m Float64   \u001b[0m\u001b[90m Float64 \u001b[0m\u001b[90m Float64 \u001b[0m\u001b[90m Float64 \u001b[0m\u001b[90m Float64 \u001b[0m\u001b[90m String7 \u001b[0m\u001b[90m String\u001b[0m ⋯\n",
       "─────┼──────────────────────────────────────────────────────────────────────────\n",
       "   1 │    57.5    -0.2767     0.28     0.3      0.31     0.3   25       1,084  ⋯\n",
       "   2 │    60.0    -0.2453     0.38     0.4      0.42     0.4   27       2,485\n",
       "   3 │    62.5    -0.2138     0.55     0.57     0.58     0.52  1        4,261\n",
       "   4 │    65.0    -0.1824     0.74     0.78     0.81     0.78  2        2,156\n",
       "   5 │    67.5    -0.1509     1.07     1.1      1.13     1.13  23       1,324  ⋯\n",
       "   6 │    70.0    -0.1195     1.53     1.56     1.58     1.62  614      4,069\n",
       "   7 │    72.5    -0.0881     2.13     2.16     2.18     2.21  865      2,992\n",
       "   8 │    75.0    -0.0566     2.9      2.93     2.96     2.97  559      3,034\n",
       "   9 │    77.5    -0.0252     3.85     3.9      3.95     4.0   456      4,873  ⋯\n",
       "\u001b[36m                                                               4 columns omitted\u001b[0m"
      ]
     },
     "execution_count": 9,
     "metadata": {},
     "output_type": "execute_result"
    }
   ],
   "source": [
    "put_contracts = filter(:Type=>x->x == \"Put\", dataset) |> y -> filter(:Strike=> x-> (x < Sₒ && x ≥ (1-w)*Sₒ), y)"
   ]
  },
  {
   "cell_type": "markdown",
   "id": "8f8e5cf0-aa8e-488e-a8ce-d180fe9e4be8",
   "metadata": {},
   "source": [
    "Select a random contract from the `put_contracts` collection; this will be our first leg of the strangle. Save the data for this contract in the `put_leg_data` variable, which is type [DataFrameRow](https://dataframes.juliadata.org/stable/lib/types/#DataFrames.DataFrameRow):"
   ]
  },
  {
   "cell_type": "code",
   "execution_count": 11,
   "id": "77aee6bc-0d48-465b-bfc2-a883961f404a",
   "metadata": {},
   "outputs": [
    {
     "data": {
      "text/html": [
       "<div><div style = \"float: left;\"><span>DataFrameRow (11 columns)</span></div><div style = \"clear: both;\"></div></div><div class = \"data-frame\" style = \"overflow-x: scroll;\"><table class = \"data-frame\" style = \"margin-bottom: 6px;\"><thead><tr class = \"header\"><th class = \"rowLabel\" style = \"font-weight: bold; text-align: right;\">Row</th><th style = \"text-align: left;\">Strike</th><th style = \"text-align: left;\">Moneyness</th><th style = \"text-align: left;\">Bid</th><th style = \"text-align: left;\">Mid</th><th style = \"text-align: left;\">Ask</th><th style = \"text-align: left;\">Last</th><th style = \"text-align: left;\">Volume</th><th style = \"text-align: left;\">Open Int</th><th style = \"text-align: left;\">Delta</th><th style = \"text-align: left;\">IV</th><th style = \"text-align: left;\">Type</th></tr><tr class = \"subheader headerLastRow\"><th class = \"rowLabel\" style = \"font-weight: bold; text-align: right;\"></th><th title = \"Float64\" style = \"text-align: left;\">Float64</th><th title = \"Float64\" style = \"text-align: left;\">Float64</th><th title = \"Float64\" style = \"text-align: left;\">Float64</th><th title = \"Float64\" style = \"text-align: left;\">Float64</th><th title = \"Float64\" style = \"text-align: left;\">Float64</th><th title = \"Float64\" style = \"text-align: left;\">Float64</th><th title = \"String7\" style = \"text-align: left;\">String7</th><th title = \"String7\" style = \"text-align: left;\">String7</th><th title = \"Float64\" style = \"text-align: left;\">Float64</th><th title = \"Float64\" style = \"text-align: left;\">Float64</th><th title = \"String7\" style = \"text-align: left;\">String7</th></tr></thead><tbody><tr><td class = \"rowLabel\" style = \"font-weight: bold; text-align: right;\">3</td><td style = \"text-align: right;\">62.5</td><td style = \"text-align: right;\">-0.2138</td><td style = \"text-align: right;\">0.55</td><td style = \"text-align: right;\">0.57</td><td style = \"text-align: right;\">0.58</td><td style = \"text-align: right;\">0.52</td><td style = \"text-align: left;\">1</td><td style = \"text-align: left;\">4,261</td><td style = \"text-align: right;\">-0.07795</td><td style = \"text-align: right;\">0.4545</td><td style = \"text-align: left;\">Put</td></tr></tbody></table></div>"
      ],
      "text/latex": [
       "\\begin{tabular}{r|cccccccccc}\n",
       "\t& Strike & Moneyness & Bid & Mid & Ask & Last & Volume & Open Int & Delta & \\\\\n",
       "\t\\hline\n",
       "\t& Float64 & Float64 & Float64 & Float64 & Float64 & Float64 & String7 & String7 & Float64 & \\\\\n",
       "\t\\hline\n",
       "\t3 & 62.5 & -0.2138 & 0.55 & 0.57 & 0.58 & 0.52 & 1 & 4,261 & -0.07795 & $\\dots$ \\\\\n",
       "\\end{tabular}\n"
      ],
      "text/plain": [
       "\u001b[1mDataFrameRow\u001b[0m\n",
       "\u001b[1m Row \u001b[0m│\u001b[1m Strike  \u001b[0m\u001b[1m Moneyness \u001b[0m\u001b[1m Bid     \u001b[0m\u001b[1m Mid     \u001b[0m\u001b[1m Ask     \u001b[0m\u001b[1m Last    \u001b[0m\u001b[1m Volume  \u001b[0m\u001b[1m Open I\u001b[0m ⋯\n",
       "     │\u001b[90m Float64 \u001b[0m\u001b[90m Float64   \u001b[0m\u001b[90m Float64 \u001b[0m\u001b[90m Float64 \u001b[0m\u001b[90m Float64 \u001b[0m\u001b[90m Float64 \u001b[0m\u001b[90m String7 \u001b[0m\u001b[90m String\u001b[0m ⋯\n",
       "─────┼──────────────────────────────────────────────────────────────────────────\n",
       "   3 │    62.5    -0.2138     0.55     0.57     0.58     0.52  1        4,261  ⋯\n",
       "\u001b[36m                                                               4 columns omitted\u001b[0m"
      ]
     },
     "execution_count": 11,
     "metadata": {},
     "output_type": "execute_result"
    }
   ],
   "source": [
    "put_leg_data = nrow(put_contracts) |> i-> put_contracts[rand(1:i),:] # fancy!"
   ]
  },
  {
   "cell_type": "markdown",
   "id": "425f7de6-afb0-4a09-b345-93106b12f355",
   "metadata": {},
   "source": [
    "Next, do the same procedure for the `call` contracts. Filter `dataset` to find the `call` contracts with the property $S_{\\circ}<K_{2}\\leq\\left(1+w\\right)\\cdot{S}_{\\circ}$ where $w>0$ is specified above. To do this, we'll use the [filter function](https://dataframes.juliadata.org/stable/lib/functions/#Base.filter) exported by the [DataFrames.jl package](https://github.com/JuliaData/DataFrames.jl) in combination with the [Julia pipe operator](https://docs.julialang.org/en/v1/manual/functions/#Function-composition-and-piping).\n",
    "\n",
    "Save the filtered selection of `call` contracts in the `call_contracts::DataFrame` variable:"
   ]
  },
  {
   "cell_type": "code",
   "execution_count": 13,
   "id": "3d232daf-9cf2-46fd-9bf2-f8ddea9f83b1",
   "metadata": {},
   "outputs": [
    {
     "data": {
      "text/html": [
       "<div><div style = \"float: left;\"><span>9×11 DataFrame</span></div><div style = \"clear: both;\"></div></div><div class = \"data-frame\" style = \"overflow-x: scroll;\"><table class = \"data-frame\" style = \"margin-bottom: 6px;\"><thead><tr class = \"header\"><th class = \"rowNumber\" style = \"font-weight: bold; text-align: right;\">Row</th><th style = \"text-align: left;\">Strike</th><th style = \"text-align: left;\">Moneyness</th><th style = \"text-align: left;\">Bid</th><th style = \"text-align: left;\">Mid</th><th style = \"text-align: left;\">Ask</th><th style = \"text-align: left;\">Last</th><th style = \"text-align: left;\">Volume</th><th style = \"text-align: left;\">Open Int</th><th style = \"text-align: left;\">Delta</th><th style = \"text-align: left;\">IV</th><th style = \"text-align: left;\">Type</th></tr><tr class = \"subheader headerLastRow\"><th class = \"rowNumber\" style = \"font-weight: bold; text-align: right;\"></th><th title = \"Float64\" style = \"text-align: left;\">Float64</th><th title = \"Float64\" style = \"text-align: left;\">Float64</th><th title = \"Float64\" style = \"text-align: left;\">Float64</th><th title = \"Float64\" style = \"text-align: left;\">Float64</th><th title = \"Float64\" style = \"text-align: left;\">Float64</th><th title = \"Float64\" style = \"text-align: left;\">Float64</th><th title = \"String7\" style = \"text-align: left;\">String7</th><th title = \"String7\" style = \"text-align: left;\">String7</th><th title = \"Float64\" style = \"text-align: left;\">Float64</th><th title = \"Float64\" style = \"text-align: left;\">Float64</th><th title = \"String7\" style = \"text-align: left;\">String7</th></tr></thead><tbody><tr><td class = \"rowNumber\" style = \"font-weight: bold; text-align: right;\">1</td><td style = \"text-align: right;\">80.0</td><td style = \"text-align: right;\">-0.0063</td><td style = \"text-align: right;\">5.15</td><td style = \"text-align: right;\">5.2</td><td style = \"text-align: right;\">5.25</td><td style = \"text-align: right;\">5.21</td><td style = \"text-align: left;\">827</td><td style = \"text-align: left;\">4,243</td><td style = \"text-align: right;\">0.53687</td><td style = \"text-align: right;\">0.3935</td><td style = \"text-align: left;\">Call</td></tr><tr><td class = \"rowNumber\" style = \"font-weight: bold; text-align: right;\">2</td><td style = \"text-align: right;\">82.5</td><td style = \"text-align: right;\">-0.0377</td><td style = \"text-align: right;\">4.05</td><td style = \"text-align: right;\">4.1</td><td style = \"text-align: right;\">4.15</td><td style = \"text-align: right;\">4.11</td><td style = \"text-align: left;\">573</td><td style = \"text-align: left;\">5,190</td><td style = \"text-align: right;\">0.4609</td><td style = \"text-align: right;\">0.3918</td><td style = \"text-align: left;\">Call</td></tr><tr><td class = \"rowNumber\" style = \"font-weight: bold; text-align: right;\">3</td><td style = \"text-align: right;\">85.0</td><td style = \"text-align: right;\">-0.0692</td><td style = \"text-align: right;\">3.1</td><td style = \"text-align: right;\">3.15</td><td style = \"text-align: right;\">3.2</td><td style = \"text-align: right;\">3.15</td><td style = \"text-align: left;\">22,430</td><td style = \"text-align: left;\">23,281</td><td style = \"text-align: right;\">0.38647</td><td style = \"text-align: right;\">0.3869</td><td style = \"text-align: left;\">Call</td></tr><tr><td class = \"rowNumber\" style = \"font-weight: bold; text-align: right;\">4</td><td style = \"text-align: right;\">87.5</td><td style = \"text-align: right;\">-0.1006</td><td style = \"text-align: right;\">2.41</td><td style = \"text-align: right;\">2.44</td><td style = \"text-align: right;\">2.46</td><td style = \"text-align: right;\">2.4</td><td style = \"text-align: left;\">1,183</td><td style = \"text-align: left;\">9,508</td><td style = \"text-align: right;\">0.31992</td><td style = \"text-align: right;\">0.3883</td><td style = \"text-align: left;\">Call</td></tr><tr><td class = \"rowNumber\" style = \"font-weight: bold; text-align: right;\">5</td><td style = \"text-align: right;\">90.0</td><td style = \"text-align: right;\">-0.1321</td><td style = \"text-align: right;\">1.84</td><td style = \"text-align: right;\">1.87</td><td style = \"text-align: right;\">1.89</td><td style = \"text-align: right;\">1.89</td><td style = \"text-align: left;\">2,868</td><td style = \"text-align: left;\">9,954</td><td style = \"text-align: right;\">0.26252</td><td style = \"text-align: right;\">0.3923</td><td style = \"text-align: left;\">Call</td></tr><tr><td class = \"rowNumber\" style = \"font-weight: bold; text-align: right;\">6</td><td style = \"text-align: right;\">92.5</td><td style = \"text-align: right;\">-0.1635</td><td style = \"text-align: right;\">1.41</td><td style = \"text-align: right;\">1.43</td><td style = \"text-align: right;\">1.45</td><td style = \"text-align: right;\">1.44</td><td style = \"text-align: left;\">5,563</td><td style = \"text-align: left;\">9,912</td><td style = \"text-align: right;\">0.21183</td><td style = \"text-align: right;\">0.3943</td><td style = \"text-align: left;\">Call</td></tr><tr><td class = \"rowNumber\" style = \"font-weight: bold; text-align: right;\">7</td><td style = \"text-align: right;\">95.0</td><td style = \"text-align: right;\">-0.195</td><td style = \"text-align: right;\">1.07</td><td style = \"text-align: right;\">1.12</td><td style = \"text-align: right;\">1.16</td><td style = \"text-align: right;\">1.16</td><td style = \"text-align: left;\">103</td><td style = \"text-align: left;\">7,270</td><td style = \"text-align: right;\">0.17495</td><td style = \"text-align: right;\">0.4049</td><td style = \"text-align: left;\">Call</td></tr><tr><td class = \"rowNumber\" style = \"font-weight: bold; text-align: right;\">8</td><td style = \"text-align: right;\">97.5</td><td style = \"text-align: right;\">-0.2264</td><td style = \"text-align: right;\">0.82</td><td style = \"text-align: right;\">0.85</td><td style = \"text-align: right;\">0.88</td><td style = \"text-align: right;\">0.9</td><td style = \"text-align: left;\">41</td><td style = \"text-align: left;\">391</td><td style = \"text-align: right;\">0.13641</td><td style = \"text-align: right;\">0.4029</td><td style = \"text-align: left;\">Call</td></tr><tr><td class = \"rowNumber\" style = \"font-weight: bold; text-align: right;\">9</td><td style = \"text-align: right;\">100.0</td><td style = \"text-align: right;\">-0.2579</td><td style = \"text-align: right;\">0.64</td><td style = \"text-align: right;\">0.66</td><td style = \"text-align: right;\">0.68</td><td style = \"text-align: right;\">0.68</td><td style = \"text-align: left;\">702</td><td style = \"text-align: left;\">10,624</td><td style = \"text-align: right;\">0.11153</td><td style = \"text-align: right;\">0.4118</td><td style = \"text-align: left;\">Call</td></tr></tbody></table></div>"
      ],
      "text/latex": [
       "\\begin{tabular}{r|cccccccccc}\n",
       "\t& Strike & Moneyness & Bid & Mid & Ask & Last & Volume & Open Int & Delta & \\\\\n",
       "\t\\hline\n",
       "\t& Float64 & Float64 & Float64 & Float64 & Float64 & Float64 & String7 & String7 & Float64 & \\\\\n",
       "\t\\hline\n",
       "\t1 & 80.0 & -0.0063 & 5.15 & 5.2 & 5.25 & 5.21 & 827 & 4,243 & 0.53687 & $\\dots$ \\\\\n",
       "\t2 & 82.5 & -0.0377 & 4.05 & 4.1 & 4.15 & 4.11 & 573 & 5,190 & 0.4609 & $\\dots$ \\\\\n",
       "\t3 & 85.0 & -0.0692 & 3.1 & 3.15 & 3.2 & 3.15 & 22,430 & 23,281 & 0.38647 & $\\dots$ \\\\\n",
       "\t4 & 87.5 & -0.1006 & 2.41 & 2.44 & 2.46 & 2.4 & 1,183 & 9,508 & 0.31992 & $\\dots$ \\\\\n",
       "\t5 & 90.0 & -0.1321 & 1.84 & 1.87 & 1.89 & 1.89 & 2,868 & 9,954 & 0.26252 & $\\dots$ \\\\\n",
       "\t6 & 92.5 & -0.1635 & 1.41 & 1.43 & 1.45 & 1.44 & 5,563 & 9,912 & 0.21183 & $\\dots$ \\\\\n",
       "\t7 & 95.0 & -0.195 & 1.07 & 1.12 & 1.16 & 1.16 & 103 & 7,270 & 0.17495 & $\\dots$ \\\\\n",
       "\t8 & 97.5 & -0.2264 & 0.82 & 0.85 & 0.88 & 0.9 & 41 & 391 & 0.13641 & $\\dots$ \\\\\n",
       "\t9 & 100.0 & -0.2579 & 0.64 & 0.66 & 0.68 & 0.68 & 702 & 10,624 & 0.11153 & $\\dots$ \\\\\n",
       "\\end{tabular}\n"
      ],
      "text/plain": [
       "\u001b[1m9×11 DataFrame\u001b[0m\n",
       "\u001b[1m Row \u001b[0m│\u001b[1m Strike  \u001b[0m\u001b[1m Moneyness \u001b[0m\u001b[1m Bid     \u001b[0m\u001b[1m Mid     \u001b[0m\u001b[1m Ask     \u001b[0m\u001b[1m Last    \u001b[0m\u001b[1m Volume  \u001b[0m\u001b[1m Open I\u001b[0m ⋯\n",
       "     │\u001b[90m Float64 \u001b[0m\u001b[90m Float64   \u001b[0m\u001b[90m Float64 \u001b[0m\u001b[90m Float64 \u001b[0m\u001b[90m Float64 \u001b[0m\u001b[90m Float64 \u001b[0m\u001b[90m String7 \u001b[0m\u001b[90m String\u001b[0m ⋯\n",
       "─────┼──────────────────────────────────────────────────────────────────────────\n",
       "   1 │    80.0    -0.0063     5.15     5.2      5.25     5.21  827      4,243  ⋯\n",
       "   2 │    82.5    -0.0377     4.05     4.1      4.15     4.11  573      5,190\n",
       "   3 │    85.0    -0.0692     3.1      3.15     3.2      3.15  22,430   23,281\n",
       "   4 │    87.5    -0.1006     2.41     2.44     2.46     2.4   1,183    9,508\n",
       "   5 │    90.0    -0.1321     1.84     1.87     1.89     1.89  2,868    9,954  ⋯\n",
       "   6 │    92.5    -0.1635     1.41     1.43     1.45     1.44  5,563    9,912\n",
       "   7 │    95.0    -0.195      1.07     1.12     1.16     1.16  103      7,270\n",
       "   8 │    97.5    -0.2264     0.82     0.85     0.88     0.9   41       391\n",
       "   9 │   100.0    -0.2579     0.64     0.66     0.68     0.68  702      10,624 ⋯\n",
       "\u001b[36m                                                               4 columns omitted\u001b[0m"
      ]
     },
     "execution_count": 13,
     "metadata": {},
     "output_type": "execute_result"
    }
   ],
   "source": [
    "call_contracts = filter(:Type=>x->x == \"Call\", dataset) |> y -> filter(:Strike=> x-> (x > Sₒ && x ≤ (1+w)*Sₒ), y)"
   ]
  },
  {
   "cell_type": "markdown",
   "id": "e1f1c84c-9bbe-4c03-9b08-8e10ded82852",
   "metadata": {},
   "source": [
    "Select a random contract from the `call_contracts::DataFrames` collection; this will be our second leg of the strangle. Save the data for this contract in the `call_leg_data` variable, which is type [DataFrameRow](https://dataframes.juliadata.org/stable/lib/types/#DataFrames.DataFrameRow):"
   ]
  },
  {
   "cell_type": "code",
   "execution_count": 15,
   "id": "d8d6c034-c1c0-4d82-8f32-3b29bf48ad82",
   "metadata": {},
   "outputs": [
    {
     "data": {
      "text/html": [
       "<div><div style = \"float: left;\"><span>DataFrameRow (11 columns)</span></div><div style = \"clear: both;\"></div></div><div class = \"data-frame\" style = \"overflow-x: scroll;\"><table class = \"data-frame\" style = \"margin-bottom: 6px;\"><thead><tr class = \"header\"><th class = \"rowLabel\" style = \"font-weight: bold; text-align: right;\">Row</th><th style = \"text-align: left;\">Strike</th><th style = \"text-align: left;\">Moneyness</th><th style = \"text-align: left;\">Bid</th><th style = \"text-align: left;\">Mid</th><th style = \"text-align: left;\">Ask</th><th style = \"text-align: left;\">Last</th><th style = \"text-align: left;\">Volume</th><th style = \"text-align: left;\">Open Int</th><th style = \"text-align: left;\">Delta</th><th style = \"text-align: left;\">IV</th><th style = \"text-align: left;\">Type</th></tr><tr class = \"subheader headerLastRow\"><th class = \"rowLabel\" style = \"font-weight: bold; text-align: right;\"></th><th title = \"Float64\" style = \"text-align: left;\">Float64</th><th title = \"Float64\" style = \"text-align: left;\">Float64</th><th title = \"Float64\" style = \"text-align: left;\">Float64</th><th title = \"Float64\" style = \"text-align: left;\">Float64</th><th title = \"Float64\" style = \"text-align: left;\">Float64</th><th title = \"Float64\" style = \"text-align: left;\">Float64</th><th title = \"String7\" style = \"text-align: left;\">String7</th><th title = \"String7\" style = \"text-align: left;\">String7</th><th title = \"Float64\" style = \"text-align: left;\">Float64</th><th title = \"Float64\" style = \"text-align: left;\">Float64</th><th title = \"String7\" style = \"text-align: left;\">String7</th></tr></thead><tbody><tr><td class = \"rowLabel\" style = \"font-weight: bold; text-align: right;\">8</td><td style = \"text-align: right;\">97.5</td><td style = \"text-align: right;\">-0.2264</td><td style = \"text-align: right;\">0.82</td><td style = \"text-align: right;\">0.85</td><td style = \"text-align: right;\">0.88</td><td style = \"text-align: right;\">0.9</td><td style = \"text-align: left;\">41</td><td style = \"text-align: left;\">391</td><td style = \"text-align: right;\">0.13641</td><td style = \"text-align: right;\">0.4029</td><td style = \"text-align: left;\">Call</td></tr></tbody></table></div>"
      ],
      "text/latex": [
       "\\begin{tabular}{r|cccccccccc}\n",
       "\t& Strike & Moneyness & Bid & Mid & Ask & Last & Volume & Open Int & Delta & \\\\\n",
       "\t\\hline\n",
       "\t& Float64 & Float64 & Float64 & Float64 & Float64 & Float64 & String7 & String7 & Float64 & \\\\\n",
       "\t\\hline\n",
       "\t8 & 97.5 & -0.2264 & 0.82 & 0.85 & 0.88 & 0.9 & 41 & 391 & 0.13641 & $\\dots$ \\\\\n",
       "\\end{tabular}\n"
      ],
      "text/plain": [
       "\u001b[1mDataFrameRow\u001b[0m\n",
       "\u001b[1m Row \u001b[0m│\u001b[1m Strike  \u001b[0m\u001b[1m Moneyness \u001b[0m\u001b[1m Bid     \u001b[0m\u001b[1m Mid     \u001b[0m\u001b[1m Ask     \u001b[0m\u001b[1m Last    \u001b[0m\u001b[1m Volume  \u001b[0m\u001b[1m Open I\u001b[0m ⋯\n",
       "     │\u001b[90m Float64 \u001b[0m\u001b[90m Float64   \u001b[0m\u001b[90m Float64 \u001b[0m\u001b[90m Float64 \u001b[0m\u001b[90m Float64 \u001b[0m\u001b[90m Float64 \u001b[0m\u001b[90m String7 \u001b[0m\u001b[90m String\u001b[0m ⋯\n",
       "─────┼──────────────────────────────────────────────────────────────────────────\n",
       "   8 │    97.5    -0.2264     0.82     0.85     0.88      0.9  41       391    ⋯\n",
       "\u001b[36m                                                               4 columns omitted\u001b[0m"
      ]
     },
     "execution_count": 15,
     "metadata": {},
     "output_type": "execute_result"
    }
   ],
   "source": [
    "call_leg_data = nrow(call_contracts) |> i-> call_contracts[rand(1:i),:] # fancy!"
   ]
  },
  {
   "cell_type": "markdown",
   "id": "dfd481a3-b0e2-4bd7-9fc5-3e53bab4d118",
   "metadata": {},
   "source": [
    "## Task 2: Build contract models and compute the profit and breakeven values at expiration\n",
    "In this task, let's compute the profit and breakeven values for our short strangle position constructed from the two random contracts selected in Task 1.\n",
    "Now that we have data for the contracts, we can compute the composite contract profit and breakeven values for the short strangle constructed from the randomly selected `put` and `call` legs.\n",
    "\n",
    "* First, [create `MyAmericanPutContractModel` and `MyAmericanCallContractModel` models](https://varnerlab.github.io/VLQuantitativeFinancePackage.jl/dev/derivatives/#American-option-contracts), initialized using the data from the random contracts from `Task 1`. Then, these contract models and possible share prices at expiration are passed to [the `payoff(...)` function](https://varnerlab.github.io/VLQuantitativeFinancePackage.jl/dev/derivatives/#VLQuantitativeFinancePackage.payoff), which computes the individual and composite payoff and profit values."
   ]
  },
  {
   "cell_type": "markdown",
   "id": "ec335fc0-d0cc-4120-986f-36c339f2afd4",
   "metadata": {},
   "source": [
    "Start with the `put` contract model. Build a [`MyAmericanPutContractModel instance`](https://varnerlab.github.io/VLQuantitativeFinancePackage.jl/dev/derivatives/#VLQuantitativeFinancePackage.MyAmericanPutContractModel) using the `put` contract data, and store this contract model in the `put_contract_model::MyAmericanPutContractModel` variable. \n",
    "* To access data from the `DataFrameRow,` pass in the column name. For example, to get the strike price, you would say: `put_leg_data[:Strike].` For the premium value, use the midpoint value."
   ]
  },
  {
   "cell_type": "code",
   "execution_count": 18,
   "id": "1023b657-6e82-4197-a93d-e1242261a055",
   "metadata": {},
   "outputs": [
    {
     "ename": "LoadError",
     "evalue": "MethodError: \u001b[0mCannot `convert` an object of type \u001b[92mNothing\u001b[39m\u001b[0m to an object of type \u001b[91mFloat64\u001b[39m\nThe function `convert` exists, but no method is defined for this combination of argument types.\n\n\u001b[0mClosest candidates are:\n\u001b[0m  convert(::Type{Float64}, \u001b[91m::Measures.AbsoluteLength\u001b[39m)\n\u001b[0m\u001b[90m   @\u001b[39m \u001b[36mMeasures\u001b[39m \u001b[90m~/.julia/packages/Measures/PKOxJ/src/\u001b[39m\u001b[90m\u001b[4mlength.jl:12\u001b[24m\u001b[39m\n\u001b[0m  convert(::Type{T}, \u001b[91m::Gray\u001b[39m) where T<:Real\n\u001b[0m\u001b[90m   @\u001b[39m \u001b[32mColorTypes\u001b[39m \u001b[90m~/.julia/packages/ColorTypes/vpFgh/src/\u001b[39m\u001b[90m\u001b[4mconversions.jl:113\u001b[24m\u001b[39m\n\u001b[0m  convert(::Type{T}, \u001b[91m::T\u001b[39m) where T\n\u001b[0m\u001b[90m   @\u001b[39m \u001b[90mBase\u001b[39m \u001b[90m\u001b[4mBase.jl:126\u001b[24m\u001b[39m\n\u001b[0m  ...\n",
     "output_type": "error",
     "traceback": [
      "MethodError: \u001b[0mCannot `convert` an object of type \u001b[92mNothing\u001b[39m\u001b[0m to an object of type \u001b[91mFloat64\u001b[39m\nThe function `convert` exists, but no method is defined for this combination of argument types.\n\n\u001b[0mClosest candidates are:\n\u001b[0m  convert(::Type{Float64}, \u001b[91m::Measures.AbsoluteLength\u001b[39m)\n\u001b[0m\u001b[90m   @\u001b[39m \u001b[36mMeasures\u001b[39m \u001b[90m~/.julia/packages/Measures/PKOxJ/src/\u001b[39m\u001b[90m\u001b[4mlength.jl:12\u001b[24m\u001b[39m\n\u001b[0m  convert(::Type{T}, \u001b[91m::Gray\u001b[39m) where T<:Real\n\u001b[0m\u001b[90m   @\u001b[39m \u001b[32mColorTypes\u001b[39m \u001b[90m~/.julia/packages/ColorTypes/vpFgh/src/\u001b[39m\u001b[90m\u001b[4mconversions.jl:113\u001b[24m\u001b[39m\n\u001b[0m  convert(::Type{T}, \u001b[91m::T\u001b[39m) where T\n\u001b[0m\u001b[90m   @\u001b[39m \u001b[90mBase\u001b[39m \u001b[90m\u001b[4mBase.jl:126\u001b[24m\u001b[39m\n\u001b[0m  ...\n",
      "",
      "Stacktrace:",
      " [1] setproperty!(x::MyAmericanPutContractModel, f::Symbol, v::Nothing)",
      "   @ Base ./Base.jl:52",
      " [2] _build(modeltype::Type{MyAmericanPutContractModel}, data::@NamedTuple{K::Nothing, premium::Nothing, sense::Int64, copy::Int64})",
      "   @ VLQuantitativeFinancePackage ~/.julia/packages/VLQuantitativeFinancePackage/QYiRF/src/Factory.jl:18",
      " [3] build(model::Type{MyAmericanPutContractModel}, data::@NamedTuple{K::Nothing, premium::Nothing, sense::Int64, copy::Int64})",
      "   @ VLQuantitativeFinancePackage ~/.julia/packages/VLQuantitativeFinancePackage/QYiRF/src/Factory.jl:348",
      " [4] top-level scope",
      "   @ In[18]:1"
     ]
    }
   ],
   "source": [
    "put_contract_model = build(MyAmericanPutContractModel, (\n",
    "        K = nothing, # TODO: set the strike price\n",
    "        premium = nothing, # TODO: set the premium value\n",
    "        sense = -1, # we are short, i.e., we *sold* this contract so sense = -1 \n",
    "        copy = 1));"
   ]
  },
  {
   "cell_type": "markdown",
   "id": "ab48cc4c-f075-47b3-b8fa-ec2391bbd11b",
   "metadata": {},
   "source": [
    "Similarly, construct the call contract model. Save the call contract model in the `call_contract_model::MyAmericanCallContractModel` variable:"
   ]
  },
  {
   "cell_type": "code",
   "execution_count": 20,
   "id": "78b6ea74-3762-49ce-aa84-792106d8a1e9",
   "metadata": {},
   "outputs": [
    {
     "ename": "LoadError",
     "evalue": "MethodError: \u001b[0mCannot `convert` an object of type \u001b[92mNothing\u001b[39m\u001b[0m to an object of type \u001b[91mFloat64\u001b[39m\nThe function `convert` exists, but no method is defined for this combination of argument types.\n\n\u001b[0mClosest candidates are:\n\u001b[0m  convert(::Type{Float64}, \u001b[91m::Measures.AbsoluteLength\u001b[39m)\n\u001b[0m\u001b[90m   @\u001b[39m \u001b[36mMeasures\u001b[39m \u001b[90m~/.julia/packages/Measures/PKOxJ/src/\u001b[39m\u001b[90m\u001b[4mlength.jl:12\u001b[24m\u001b[39m\n\u001b[0m  convert(::Type{T}, \u001b[91m::Gray\u001b[39m) where T<:Real\n\u001b[0m\u001b[90m   @\u001b[39m \u001b[32mColorTypes\u001b[39m \u001b[90m~/.julia/packages/ColorTypes/vpFgh/src/\u001b[39m\u001b[90m\u001b[4mconversions.jl:113\u001b[24m\u001b[39m\n\u001b[0m  convert(::Type{T}, \u001b[91m::T\u001b[39m) where T\n\u001b[0m\u001b[90m   @\u001b[39m \u001b[90mBase\u001b[39m \u001b[90m\u001b[4mBase.jl:126\u001b[24m\u001b[39m\n\u001b[0m  ...\n",
     "output_type": "error",
     "traceback": [
      "MethodError: \u001b[0mCannot `convert` an object of type \u001b[92mNothing\u001b[39m\u001b[0m to an object of type \u001b[91mFloat64\u001b[39m\nThe function `convert` exists, but no method is defined for this combination of argument types.\n\n\u001b[0mClosest candidates are:\n\u001b[0m  convert(::Type{Float64}, \u001b[91m::Measures.AbsoluteLength\u001b[39m)\n\u001b[0m\u001b[90m   @\u001b[39m \u001b[36mMeasures\u001b[39m \u001b[90m~/.julia/packages/Measures/PKOxJ/src/\u001b[39m\u001b[90m\u001b[4mlength.jl:12\u001b[24m\u001b[39m\n\u001b[0m  convert(::Type{T}, \u001b[91m::Gray\u001b[39m) where T<:Real\n\u001b[0m\u001b[90m   @\u001b[39m \u001b[32mColorTypes\u001b[39m \u001b[90m~/.julia/packages/ColorTypes/vpFgh/src/\u001b[39m\u001b[90m\u001b[4mconversions.jl:113\u001b[24m\u001b[39m\n\u001b[0m  convert(::Type{T}, \u001b[91m::T\u001b[39m) where T\n\u001b[0m\u001b[90m   @\u001b[39m \u001b[90mBase\u001b[39m \u001b[90m\u001b[4mBase.jl:126\u001b[24m\u001b[39m\n\u001b[0m  ...\n",
      "",
      "Stacktrace:",
      " [1] setproperty!(x::MyAmericanCallContractModel, f::Symbol, v::Nothing)",
      "   @ Base ./Base.jl:52",
      " [2] _build(modeltype::Type{MyAmericanCallContractModel}, data::@NamedTuple{K::Nothing, premium::Nothing, sense::Int64, copy::Int64})",
      "   @ VLQuantitativeFinancePackage ~/.julia/packages/VLQuantitativeFinancePackage/QYiRF/src/Factory.jl:18",
      " [3] build(model::Type{MyAmericanCallContractModel}, data::@NamedTuple{K::Nothing, premium::Nothing, sense::Int64, copy::Int64})",
      "   @ VLQuantitativeFinancePackage ~/.julia/packages/VLQuantitativeFinancePackage/QYiRF/src/Factory.jl:365",
      " [4] top-level scope",
      "   @ In[20]:1"
     ]
    }
   ],
   "source": [
    "call_contract_model = build(MyAmericanCallContractModel, (\n",
    "        K = nothing, # TODO: set the strike price\n",
    "        premium = nothing, # TODO: set the premium value\n",
    "        sense = -1, # we are short, i.e., we *sold* this contract so sense = -1 \n",
    "        copy = 1));"
   ]
  },
  {
   "cell_type": "markdown",
   "id": "2e0f5e4f-f585-4f0f-86a3-552f40c063ce",
   "metadata": {},
   "source": [
    "Next, create an array of values for the share price at expiration. We'll look at a range starting from below $K_{1}$ and ending above $K_{2}$ with `number_of_steps` values. Store these values in the `share_price_array::Array{Float64,1}` variable."
   ]
  },
  {
   "cell_type": "code",
   "execution_count": 22,
   "id": "5edad3eb-4b65-4992-9bc8-759356fc4d92",
   "metadata": {},
   "outputs": [
    {
     "ename": "LoadError",
     "evalue": "UndefVarError: `put_contract_model` not defined in `Main`\nSuggestion: check for spelling errors or missing imports.",
     "output_type": "error",
     "traceback": [
      "UndefVarError: `put_contract_model` not defined in `Main`\nSuggestion: check for spelling errors or missing imports.",
      "",
      "Stacktrace:",
      " [1] top-level scope",
      "   @ In[22]:7"
     ]
    }
   ],
   "source": [
    "share_price_array = let\n",
    "\n",
    "    w = 0.5; # width of range to explore. Adjust me to see what happens\n",
    "    number_of_steps = 1001; # leave me alone!\n",
    "\n",
    "    # build a range, then pass that to collect (which gives an array)\n",
    "    share_price_array = range((1-w)*put_contract_model.K,stop = (1+w)*call_contract_model.K, length = number_of_steps) |> collect;\n",
    "\n",
    "    # return the data\n",
    "    share_price_array;\n",
    "end;"
   ]
  },
  {
   "cell_type": "markdown",
   "id": "9cf2db05-b428-41a0-a272-875ff2131d84",
   "metadata": {},
   "source": [
    "Finally, compute the profit for the short strangle. We compute the profit by [calling the `profit(...)` function](https://varnerlab.github.io/VLQuantitativeFinancePackage.jl/dev/derivatives/#VLQuantitativeFinancePackage.profit) and save the profit values in the `profit_array` variable. The [`profit(...)` function](https://varnerlab.github.io/VLQuantitativeFinancePackage.jl/dev/derivatives/#VLQuantitativeFinancePackage.profit) takes two arguments, the contract models as an array and the share price array.\n",
    "\n",
    "* The `profit_array` will be a `1001`$\\times$ `4` array, in which each row is a possible value for the share price at expiration $S_{T}$. Column `1` holds the possible $S_{T}$ values, column `2` holds the profit for the short `put,` column `3` holds the profit for the short `call,` and column `4` holds the overall profit for the composite trade."
   ]
  },
  {
   "cell_type": "code",
   "execution_count": 24,
   "id": "e7c39d67-3b02-43f0-a34e-a3e79373fc85",
   "metadata": {},
   "outputs": [],
   "source": [
    "profit_array = nothing; # TODO call the profit function here with [put_contract,call_contract], share_price_array args"
   ]
  },
  {
   "cell_type": "markdown",
   "id": "da7cdf9e-7e1f-4626-b9c0-11038f3c148c",
   "metadata": {},
   "source": [
    "`Unhide` the code below to see how we visualized the profit and break-even points for the short-stangle."
   ]
  },
  {
   "cell_type": "code",
   "execution_count": 26,
   "id": "e25aaa39-7548-4ac6-85ce-7682de89d077",
   "metadata": {
    "jupyter": {
     "source_hidden": true
    }
   },
   "outputs": [
    {
     "ename": "LoadError",
     "evalue": "UndefVarError: `share_price_array` not defined in `Main`\nSuggestion: check for spelling errors or missing imports.",
     "output_type": "error",
     "traceback": [
      "UndefVarError: `share_price_array` not defined in `Main`\nSuggestion: check for spelling errors or missing imports.",
      "",
      "Stacktrace:",
      " [1] top-level scope",
      "   @ In[26]:9"
     ]
    }
   ],
   "source": [
    "let\n",
    "\n",
    "    K₁ =  put_leg_data[:Strike];\n",
    "    K₂ = call_leg_data[:Strike];\n",
    "    premium_1 = put_leg_data[:Mid]\n",
    "    premium_2 = call_leg_data[:Mid]\n",
    "    max_profit = (premium_1 + premium_2);\n",
    "    \n",
    "    S = share_price_array\n",
    "    number_of_steps = length(S);\n",
    "    BEL = zeros(length(S))\n",
    "\n",
    "    profit_idx = findall(>(0), profit_array[:,4])\n",
    "    loss_array = profit_array[:,:]; loss_array[profit_idx,:] .= NaN\n",
    "    \n",
    "    breakeven_array = zeros(2,2);\n",
    "    breakeven_array[1,1] = K₂ + (premium_1 + premium_2);\n",
    "    breakeven_array[2,1] = K₁ - (premium_1 + premium_2);\n",
    "\n",
    "    \n",
    "    plot(profit_array[:,1], profit_array[:,4], lw=3, label=\"Profit\", c=:green, \n",
    "        bg=\"gray95\", \tbackground_color_outside=\"white\", framestyle = :box, fg_legend = :transparent, legend=:bottom, \n",
    "        xminorticks=10, yminorticks=10)\n",
    "    plot!(profit_array[:,1], profit_array[:,2], lw=2, label=\"Put\", ls=:dash, c=:orange)\n",
    "    plot!(profit_array[:,1], profit_array[:,3], lw=2, label=\"Call\", ls=:dash, c=:navyblue)\n",
    "    plot!(loss_array[:,1], loss_array[:,4], lw=4, label=\"Loss\", c=:red)\n",
    "    \n",
    "    plot!(S,BEL,lw=2, c=:green, label=\"Breakeven\", ls=:dash)\n",
    "    scatter!(breakeven_array[:,1], breakeven_array[:,2], c=:white, msc=:red,label=\"\", ms=5)\n",
    "    \n",
    "    scatter!([K₂],[max_profit], ms=5, label = \"K₂ = $(K₂) (short call)\", msc=:green, c=:white)\n",
    "    scatter!([K₁],[max_profit], ms=5, label = \"K₁ = $(K₁) (short put)\", msc=:green, c=:white)\n",
    "\n",
    "    \n",
    "    # VLINE[1] = Sₒ\n",
    "    # VLINE[2] .= range(minimum(-1*profit_array[:,end]), stop = maximum(profit_array[:,end]), length = number_of_steps) |> collect;\n",
    "    scatter!([Sₒ], [max_profit], ms=5, c=:deepskyblue1, msc=:navy, ls=:dash, label=\"Sₒ = $(Sₒ) USD/share\")\n",
    "    \n",
    "    xlabel!(\"Share price at expiration (USD/share)\", fontsize=18)\n",
    "    ylabel!(\"Profit (USD/share)\", fontsize=18)\n",
    "end"
   ]
  },
  {
   "cell_type": "code",
   "execution_count": 27,
   "id": "8de4a06c-6e9c-439a-974b-7ccefb522b55",
   "metadata": {},
   "outputs": [],
   "source": [
    "do_I_see_the_profit_loss_plot = false; # set this value {true | false}"
   ]
  },
  {
   "cell_type": "markdown",
   "id": "6daf4e30-d8a4-4a2f-a3e4-39db16f04ce5",
   "metadata": {},
   "source": [
    "### Breakeven analysis\n",
    "Compute the breakeven points for the short `MU` straddle. Save these values in the `B_low::Float64` and `B_high::Float64` variables. A strangle has two possible breakeven points at expiration denoted as $B^{+}$ and $B^{-}$:\n",
    "$$\n",
    "\\begin{equation}\n",
    "\tB(T) = \\begin{cases}\n",
    "\t\tB^{-} = K_{1} - \\left(\\mathcal{P}_{1}+\\mathcal{P}_{2}\\right) & S_{T} < K_{1} \\\\\n",
    "\t\tB^{+} = K_{2} + \\left(\\mathcal{P}_{1}+\\mathcal{P}_{2}\\right) & S_{T} > K_{2}\n",
    "\t\\end{cases}\n",
    "\\end{equation}\n",
    "$$\n",
    "where $S_{T}$ denotes the share price at expiration, $B^{+}$ denotes the upper breakeven point, $B^{-}$ denotes the lower breakeven point, index $j=1$ denotes the $\\texttt{put}$ contract, $j=2$ denote the $\\texttt{call}$ contract; for a strangle $K_{1}<K_{2}$. "
   ]
  },
  {
   "cell_type": "code",
   "execution_count": 29,
   "id": "d1244234-590b-4e0f-ab6f-124f6743a340",
   "metadata": {},
   "outputs": [
    {
     "ename": "LoadError",
     "evalue": "MethodError: no method matching +(::Nothing, ::Nothing)\nThe function `+` exists, but no method is defined for this combination of argument types.\n\n\u001b[0mClosest candidates are:\n\u001b[0m  +(::Any, ::Any, \u001b[91m::Any\u001b[39m, \u001b[91m::Any...\u001b[39m)\n\u001b[0m\u001b[90m   @\u001b[39m \u001b[90mBase\u001b[39m \u001b[90m\u001b[4moperators.jl:596\u001b[24m\u001b[39m\n\u001b[0m  +(\u001b[91m::MutableArithmetics.Zero\u001b[39m, ::Any)\n\u001b[0m\u001b[90m   @\u001b[39m \u001b[36mMutableArithmetics\u001b[39m \u001b[90m~/.julia/packages/MutableArithmetics/sjjl8/src/\u001b[39m\u001b[90m\u001b[4mrewrite.jl:64\u001b[24m\u001b[39m\n\u001b[0m  +(::Any, \u001b[91m::ChainRulesCore.NotImplemented\u001b[39m)\n\u001b[0m\u001b[90m   @\u001b[39m \u001b[35mChainRulesCore\u001b[39m \u001b[90m~/.julia/packages/ChainRulesCore/6Pucz/src/\u001b[39m\u001b[90m\u001b[4mtangent_arithmetic.jl:25\u001b[24m\u001b[39m\n\u001b[0m  ...\n",
     "output_type": "error",
     "traceback": [
      "MethodError: no method matching +(::Nothing, ::Nothing)\nThe function `+` exists, but no method is defined for this combination of argument types.\n\n\u001b[0mClosest candidates are:\n\u001b[0m  +(::Any, ::Any, \u001b[91m::Any\u001b[39m, \u001b[91m::Any...\u001b[39m)\n\u001b[0m\u001b[90m   @\u001b[39m \u001b[90mBase\u001b[39m \u001b[90m\u001b[4moperators.jl:596\u001b[24m\u001b[39m\n\u001b[0m  +(\u001b[91m::MutableArithmetics.Zero\u001b[39m, ::Any)\n\u001b[0m\u001b[90m   @\u001b[39m \u001b[36mMutableArithmetics\u001b[39m \u001b[90m~/.julia/packages/MutableArithmetics/sjjl8/src/\u001b[39m\u001b[90m\u001b[4mrewrite.jl:64\u001b[24m\u001b[39m\n\u001b[0m  +(::Any, \u001b[91m::ChainRulesCore.NotImplemented\u001b[39m)\n\u001b[0m\u001b[90m   @\u001b[39m \u001b[35mChainRulesCore\u001b[39m \u001b[90m~/.julia/packages/ChainRulesCore/6Pucz/src/\u001b[39m\u001b[90m\u001b[4mtangent_arithmetic.jl:25\u001b[24m\u001b[39m\n\u001b[0m  ...\n",
      "",
      "Stacktrace:",
      " [1] top-level scope",
      "   @ In[29]:16"
     ]
    }
   ],
   "source": [
    "B_low, B_high = let\n",
    "\n",
    "    # initialize -\n",
    "    B_low = nothing;\n",
    "    B_high = nothing;\n",
    "\n",
    "    # Low - put side\n",
    "    K₁ = nothing; # TODO: update me with the put data\n",
    "    P₁ = nothing; # TODO: update me with the put data\n",
    "\n",
    "    # High - call side\n",
    "    K₂ = nothing; # TODO: update me with the call data\n",
    "    P₂ = nothing; # TODO: update me with the call data\n",
    "\n",
    "    # compute -\n",
    "    B_low = K₁ - (P₁ + P₂);\n",
    "    B_high = K₂ + (P₁ + P₂);\n",
    "\n",
    "    # return -\n",
    "    B_low, B_high\n",
    "end;"
   ]
  },
  {
   "cell_type": "code",
   "execution_count": 30,
   "id": "7a3ba54a-da23-4f92-8e64-3ab7cf1725a2",
   "metadata": {},
   "outputs": [
    {
     "ename": "LoadError",
     "evalue": "UndefVarError: `B_low` not defined in `Main`\nSuggestion: check for spelling errors or missing imports.",
     "output_type": "error",
     "traceback": [
      "UndefVarError: `B_low` not defined in `Main`\nSuggestion: check for spelling errors or missing imports.",
      "",
      "Stacktrace:",
      " [1] top-level scope",
      "   @ In[30]:1"
     ]
    }
   ],
   "source": [
    "println(\"Breakeven downside = $(B_low) USD/share and Breakeven upside = $(B_high) USD/share\")"
   ]
  },
  {
   "cell_type": "markdown",
   "id": "85cfb363-a326-48fe-be3b-575067b46353",
   "metadata": {},
   "source": [
    "## Task 3: Compute the probability of profit for the random short strangle\n",
    "In this task, we'll compute the likelihood of various profit levels for the random short-strangle position. To do this, we'll construct models that predict the underlying asset's share price to the contracts' expiration and then use the cumulative distribution function to compute the probability of various conditions being true. \n",
    "\n",
    "Let's start by building two models we use to estimate future share price: __Model 1__: geometric Brownian motion (GBM) and __Model 2__: Implied Volatility models."
   ]
  },
  {
   "cell_type": "markdown",
   "id": "e20b00e1-9881-453f-b192-db7f6bb6d021",
   "metadata": {},
   "source": [
    "### Model 1: Geometric Brownian Motion\n",
    "Despite a few shortcomings, a nice feature of Geometric Brownian motion is that it has a convenient analytical solution:\n",
    "$$\n",
    "\\begin{equation*}\n",
    "S(t) = S_{\\circ}\\cdot\\exp\\Biggl[\\left(\\mu-\\frac{\\sigma^{2}}{2}\\right)\\cdot\\left(t - t_{\\circ}\\right) + (\\sigma\\sqrt{t-t_{\\circ}})\\cdot{Z(0,1)}\\Biggr]\n",
    "\\end{equation*}\n",
    "$$\n",
    "where $S_{\\circ}$ is the initial share price at $t_{\\circ}$, and $Z(0,1)$ is a standard normal random variable. Geometric Brownian motion will produce a future share price distribution that follows a Log Normal distribution, with expectation and variance of the form:\n",
    "$$\n",
    "\\begin{eqnarray*}\n",
    "\\mathbb{E}\\left(S_{t}\\right) &=& S_{o}\\cdot{e}^{\\mu\\cdot\\Delta{t}}\\\\\n",
    "\\text{Var}\\left(S_{t}\\right) &=& S_{\\circ}^{2}e^{2\\mu\\cdot\\Delta{t}}\\left[e^{\\sigma^{2}{\\Delta{t}}} - 1\\right]\n",
    "\\end{eqnarray*}\n",
    "$$\n",
    "where $\\Delta{t} = t - t_{\\circ}$. We'll use the analytical solution to compute the distribution of share price values at $t = T$, i.e., at the contract's expiration.\n",
    "\n",
    "#### Implementation\n",
    "Build an instance of the [MyGeometricBrownianMotionEquityModel type](https://varnerlab.github.io/VLQuantitativeFinancePackage.jl/dev/equity/#VLQuantitativeFinancePackage.MyGeometricBrownianMotionEquityModel) which holds values for the drift `μ` and volatility `σ` parameters using a [custom build(...) method](https://varnerlab.github.io/VLQuantitativeFinancePackage.jl/dev/equity/#VLQuantitativeFinancePackage.build-Tuple{Type{MyGeometricBrownianMotionEquityModel},%20NamedTuple}). \n",
    "* We set the drift parameter to the risk-free rate $\\mu = \\bar{r}$ (because options use a risk-neutral probability measure), and the volatility is set to the implied volatility estimate $\\sigma = \\text{IV}$ from the options chain data.\n",
    "* __Hmmm__. But we have two contracts? Let's use the average `IV` value for two contracts. Alternatively, we could use the average IV value computed over all contracts. Historically, the average IV value for `MU` contracts is around 40% - 50%."
   ]
  },
  {
   "cell_type": "code",
   "execution_count": 33,
   "id": "3173fc3a-e6ee-47df-999a-f8f1b694af79",
   "metadata": {},
   "outputs": [
    {
     "ename": "LoadError",
     "evalue": "MethodError: \u001b[0mCannot `convert` an object of type \u001b[92mNothing\u001b[39m\u001b[0m to an object of type \u001b[91mFloat64\u001b[39m\nThe function `convert` exists, but no method is defined for this combination of argument types.\n\n\u001b[0mClosest candidates are:\n\u001b[0m  convert(::Type{Float64}, \u001b[91m::Measures.AbsoluteLength\u001b[39m)\n\u001b[0m\u001b[90m   @\u001b[39m \u001b[36mMeasures\u001b[39m \u001b[90m~/.julia/packages/Measures/PKOxJ/src/\u001b[39m\u001b[90m\u001b[4mlength.jl:12\u001b[24m\u001b[39m\n\u001b[0m  convert(::Type{T}, \u001b[91m::Gray\u001b[39m) where T<:Real\n\u001b[0m\u001b[90m   @\u001b[39m \u001b[32mColorTypes\u001b[39m \u001b[90m~/.julia/packages/ColorTypes/vpFgh/src/\u001b[39m\u001b[90m\u001b[4mconversions.jl:113\u001b[24m\u001b[39m\n\u001b[0m  convert(::Type{T}, \u001b[91m::T\u001b[39m) where T\n\u001b[0m\u001b[90m   @\u001b[39m \u001b[90mBase\u001b[39m \u001b[90m\u001b[4mBase.jl:126\u001b[24m\u001b[39m\n\u001b[0m  ...\n",
     "output_type": "error",
     "traceback": [
      "MethodError: \u001b[0mCannot `convert` an object of type \u001b[92mNothing\u001b[39m\u001b[0m to an object of type \u001b[91mFloat64\u001b[39m\nThe function `convert` exists, but no method is defined for this combination of argument types.\n\n\u001b[0mClosest candidates are:\n\u001b[0m  convert(::Type{Float64}, \u001b[91m::Measures.AbsoluteLength\u001b[39m)\n\u001b[0m\u001b[90m   @\u001b[39m \u001b[36mMeasures\u001b[39m \u001b[90m~/.julia/packages/Measures/PKOxJ/src/\u001b[39m\u001b[90m\u001b[4mlength.jl:12\u001b[24m\u001b[39m\n\u001b[0m  convert(::Type{T}, \u001b[91m::Gray\u001b[39m) where T<:Real\n\u001b[0m\u001b[90m   @\u001b[39m \u001b[32mColorTypes\u001b[39m \u001b[90m~/.julia/packages/ColorTypes/vpFgh/src/\u001b[39m\u001b[90m\u001b[4mconversions.jl:113\u001b[24m\u001b[39m\n\u001b[0m  convert(::Type{T}, \u001b[91m::T\u001b[39m) where T\n\u001b[0m\u001b[90m   @\u001b[39m \u001b[90mBase\u001b[39m \u001b[90m\u001b[4mBase.jl:126\u001b[24m\u001b[39m\n\u001b[0m  ...\n",
      "",
      "Stacktrace:",
      " [1] setproperty!(x::MyGeometricBrownianMotionEquityModel, f::Symbol, v::Nothing)",
      "   @ Base ./Base.jl:52",
      " [2] _build(modeltype::Type{MyGeometricBrownianMotionEquityModel}, data::@NamedTuple{μ::Nothing, σ::Nothing})",
      "   @ VLQuantitativeFinancePackage ~/.julia/packages/VLQuantitativeFinancePackage/QYiRF/src/Factory.jl:18",
      " [3] build(model::Type{MyGeometricBrownianMotionEquityModel}, data::@NamedTuple{μ::Nothing, σ::Nothing})",
      "   @ VLQuantitativeFinancePackage ~/.julia/packages/VLQuantitativeFinancePackage/QYiRF/src/Factory.jl:380",
      " [4] top-level scope",
      "   @ In[33]:7"
     ]
    }
   ],
   "source": [
    "model, σ̄ = let\n",
    "\n",
    "    # Step 1: compute the average implied volatility σ̄:\n",
    "    σ̄ = (1/2)*(call_leg_data[:IV] + put_leg_data[:IV]);\n",
    "\n",
    "    # Step 2: build the GBM model\n",
    "    model = build(MyGeometricBrownianMotionEquityModel, (\n",
    "        μ = nothing, # TODO: update me with the correct mu -\n",
    "        σ = nothing # TODO: update me with the correct sigma\n",
    "    ));\n",
    "\n",
    "    model, σ̄\n",
    "end;"
   ]
  },
  {
   "cell_type": "markdown",
   "id": "288073e1-f5a9-4bcc-a1d5-728ad5e0bca0",
   "metadata": {},
   "source": [
    "Now that we have a populated [MyGeometricBrownianMotionEquityModel instance](https://varnerlab.github.io/VLQuantitativeFinancePackage.jl/dev/equity/#VLQuantitativeFinancePackage.MyGeometricBrownianMotionEquityModel) holding the `MU` data, let's generate `number_of_samples` possible future share price values using the [sample(...) function exported by the VLQuantitativeFinancePackage.jl package](https://varnerlab.github.io/VLQuantitativeFinancePackage.jl/dev/equity/#VLQuantitativeFinancePackage.sample-Tuple{MyMultipleAssetGeometricBrownianMotionEquityModel,%20NamedTuple}).\n",
    "* The [sample method](https://varnerlab.github.io/VLQuantitativeFinancePackage.jl/dev/equity/#VLQuantitativeFinancePackage.sample-Tuple{MyMultipleAssetGeometricBrownianMotionEquityModel,%20NamedTuple}) takes a `model::MyGeometricBrownianMotionEquityModel` instance as the first argument, along with the time values that we wish to sample: `T₁::Float64` is the start time, `T₂::Float64` is the stop-time (in units of `years`), `Δt::Float64` is the time step (in units of `years`), and `Sₒ::Float64` denotes the initial share price (in units of `USD/share`). Finally, we pass in the number of samples we want to generate in the `number_of_paths` argument.\n",
    "* The [sample method](https://varnerlab.github.io/VLQuantitativeFinancePackage.jl/dev/equity/#VLQuantitativeFinancePackage.sample-Tuple{MyMultipleAssetGeometricBrownianMotionEquityModel,%20NamedTuple}) generates `number_of_paths` sample paths from $T_{1}\\rightarrow{T}_{2}$ in steps of $\\Delta{t}$. However, we only want the share prices corresponding to the duration of the contract, i.e., $T_{2} = \\text{DTE}\\cdot\\Delta{t}$. Thus, we pass the full `samples` array [using the Julia pipe operator](https://docs.julialang.org/en/v1/manual/functions/#Function-composition-and-piping) to a slicing operation where we select columns `2:end` of the last row (col 1 holds the time). We store the `number_of_paths` samples of the share price at $T_{2}$ in the `endpoint::Array{Float64,1}` variable."
   ]
  },
  {
   "cell_type": "code",
   "execution_count": 35,
   "id": "f8d0715c-e1b2-41dc-8680-96584e17b98e",
   "metadata": {},
   "outputs": [
    {
     "ename": "LoadError",
     "evalue": "UndefVarError: `model` not defined in `Main`\nSuggestion: check for spelling errors or missing imports.",
     "output_type": "error",
     "traceback": [
      "UndefVarError: `model` not defined in `Main`\nSuggestion: check for spelling errors or missing imports.",
      "",
      "Stacktrace:",
      " [1] top-level scope",
      "   @ In[35]:3"
     ]
    }
   ],
   "source": [
    "endpoint = let\n",
    "    number_of_samples = 10000;\n",
    "    endpoint = VLQuantitativeFinancePackage.sample(model, (\n",
    "        T₁ = 0.0,\n",
    "        T₂ = (DTE)*(Δt),\n",
    "        Δt = Δt,\n",
    "        Sₒ = Sₒ\n",
    "    ), number_of_paths = number_of_samples) |> samples -> samples[end,2:end]; # get last row from col 2 -> number_of_paths\n",
    "\n",
    "    endpoint;\n",
    "end;"
   ]
  },
  {
   "cell_type": "markdown",
   "id": "504e993a-3e4f-4a1f-ba41-b0955490f068",
   "metadata": {},
   "source": [
    "We've previously shown that sampling a GBM model, emits a LogNormal share price distribution. Fit a [LogNormal distribution exported by the Distributions.jl package](https://juliastats.org/Distributions.jl/stable/univariate/#Distributions.LogNormal) using the [fit_mle(...) function exported by Distributions.jl](https://juliastats.org/Distributions.jl/stable/fit/#Distributions.fit_mle-Tuple{Any,%20Any}), and save this in the `d_gbm` variable:"
   ]
  },
  {
   "cell_type": "code",
   "execution_count": 37,
   "id": "4e4ec47e-cead-4909-880f-e126a6e988b7",
   "metadata": {},
   "outputs": [
    {
     "ename": "LoadError",
     "evalue": "UndefVarError: `endpoint` not defined in `Main`\nSuggestion: check for spelling errors or missing imports.",
     "output_type": "error",
     "traceback": [
      "UndefVarError: `endpoint` not defined in `Main`\nSuggestion: check for spelling errors or missing imports.",
      "",
      "Stacktrace:",
      " [1] top-level scope",
      "   @ In[37]:1"
     ]
    }
   ],
   "source": [
    "d_gbm = fit_mle(LogNormal, endpoint);"
   ]
  },
  {
   "cell_type": "markdown",
   "id": "54fcb24f-9917-47fb-b499-798496bef9a5",
   "metadata": {},
   "source": [
    "### Model 2: Future share price projection using the Implied Volatility\n",
    "Alternatively, we could use the implied volatility to estimate the expected share price move over some time $0\\rightarrow{T}$.\n",
    "Suppose we construct a [Normal distribution](https://juliastats.org/Distributions.jl/stable/univariate/#Distributions.Normal) $\\mathcal{N}(\\mu_{IV},\\sigma_{IV})$ where mean $\\mu_{IV} = S_{\\circ}\\exp(\\bar{r}\\cdot{T\\Delta{t}})$, i.e., the risk-neutral future value of the current share price, or just $\\mu_{IV}\\approx{S}_{\\circ}$ for short duration contracts, and standard deviation $\\sigma_{IV}$ is:\n",
    "$$\n",
    "\\sigma_{IV} = S_{\\circ}\\cdot\\left(\\frac{\\text{IV}}{100}\\right)\\cdot\\sqrt{\\text{T}\\cdot\\Delta{t}}\n",
    "$$\n",
    "using the [Normal type exported by the Distributions.jl package](https://juliastats.org/Distributions.jl/stable/univariate/#Distributions.Normal). \n",
    "* __Note__ In the expression above, the `IV` is given as a percentage `X.Y%.` If we already have a decimal, then do __not__ divided by `100.`\n",
    "\n",
    "This is only an `approximate model` of the future share price. However, this model is widely used to generate quick estimates of future share price ranges using the forward-looking implied volatility `IV.`  Let's save the Normal IV distribution distribution $\\mathcal{N}(\\mu_{IV},\\sigma_{IV})$ in the `d_IV` variable (don't forget to use $\\bar{\\sigma}$ for the implied volatility, as a decimal):"
   ]
  },
  {
   "cell_type": "code",
   "execution_count": 39,
   "id": "3f19efb6-9e94-479c-9472-be47b8c3a39c",
   "metadata": {},
   "outputs": [
    {
     "ename": "LoadError",
     "evalue": "UndefVarError: `σ̄` not defined in `Main`\nSuggestion: check for spelling errors or missing imports.",
     "output_type": "error",
     "traceback": [
      "UndefVarError: `σ̄` not defined in `Main`\nSuggestion: check for spelling errors or missing imports.",
      "",
      "Stacktrace:",
      " [1] top-level scope",
      "   @ In[39]:1"
     ]
    }
   ],
   "source": [
    "d_IV = Normal(Sₒ*exp(risk_free_rate*DTE*Δt), Sₒ*(σ̄)*sqrt(DTE*Δt));"
   ]
  },
  {
   "cell_type": "markdown",
   "id": "74769f2b-72d9-4a6a-934a-fde85d1f489c",
   "metadata": {},
   "source": [
    "`Unhide` the code block below to see how we plotted the `d_gbm` and `d_IV` future share price densities at `T = 62 days.`  \n",
    "* __Summary__: The log-normal gbm share price distribution (blue line) and the normal-IV distribution (red line) are similar. However, the log-normal gbm model is right-skewed and cannot admit negative share prices. On the other hand, the normal IV distribution (red line) is more symmetric around the initial share price $S_{\\circ}$ = `79.50 USD/share.`"
   ]
  },
  {
   "cell_type": "code",
   "execution_count": 41,
   "id": "c215b646-dd96-48a3-9c7b-f0973bbdca3d",
   "metadata": {
    "jupyter": {
     "source_hidden": true
    }
   },
   "outputs": [
    {
     "ename": "LoadError",
     "evalue": "UndefVarError: `d_IV` not defined in `Main`\nSuggestion: check for spelling errors or missing imports.",
     "output_type": "error",
     "traceback": [
      "UndefVarError: `d_IV` not defined in `Main`\nSuggestion: check for spelling errors or missing imports.",
      "",
      "Stacktrace:",
      " [1] top-level scope",
      "   @ In[41]:3"
     ]
    }
   ],
   "source": [
    "let\n",
    "    number_of_steps = 1000;\n",
    "    plot(d_IV, lw=3, label=\"Normal IV\", c=:red, \n",
    "        bg=\"gray95\", background_color_outside=\"white\", framestyle = :box, fg_legend = :transparent, \n",
    "        xminorticks=5, yminorticks=5)\n",
    "    plot!(d_gbm, lw=3, label=\"MLE LogNormal\", c=:deepskyblue1)\n",
    "\n",
    "    VLINE = zeros(number_of_steps, 2)\n",
    "    VLINE[:,1] .= Sₒ*ones(number_of_steps)\n",
    "    VLINE[:,2] = range(0.0,0.03,length=number_of_steps);\n",
    "    plot!(VLINE[:,1], VLINE[:,2], lw=2, c= :gray69, ls=:dash, label=\"Sₒ = $(Sₒ) USD/share\")\n",
    "    \n",
    "    xlabel!(\"Share price in T = $(DTE) days (USD/share)\", fontsize=18)\n",
    "    ylabel!(\"Probability Density (AU)\", fontsize=18)\n",
    "end"
   ]
  },
  {
   "cell_type": "code",
   "execution_count": 42,
   "id": "8bc2eaa6-1b8b-4cd0-bcd9-0f74cee19aa8",
   "metadata": {},
   "outputs": [],
   "source": [
    "do_I_see_the_share_price_plot = false; # set this value {true | false}"
   ]
  },
  {
   "cell_type": "markdown",
   "id": "1c2e1723-884e-4e14-b873-674e8f5a3299",
   "metadata": {},
   "source": [
    "### Probability of Profit at Expiration\n",
    "In this step, we'll estimate [the cumulative distribution function (CDF)](https://en.wikipedia.org/wiki/Cumulative_distribution_function) for the geometric Brownian motion and implied volatility share price distributions. \n",
    "We can query the cumulative distribution function $F_{S}(\\star)$ using for the projected geometric Brownian motion distribution `d_gbm` and the Implied Volatility price distribution `d_IV` using [the `cdf(...)` function exported by the Distributions.jl package](https://github.com/JuliaStats/Distributions.jl?tab=readme-ov-file).\n",
    "\n",
    "#### Refresher on Cumulative Probability Functions\n",
    "Before starting the calculations, let's quickly refresh our knowledge of what the cumulative probability distribution function tells us. The cumulative distribution function of a real-valued random variable $X$ (this is share price at expiration in our case) is given by:\n",
    "$$\n",
    "P(X\\leq{x}) = F_{X}(x)\n",
    "$$\n",
    "that is, the probability that we see a value for the random variable $X$ less than or equal to the specified value $x$ is the cumulative distribution function evaluated at $x$. Alternatively, $P(X>x)$ is given by:\n",
    "$$\n",
    "P(X>{x}) = 1 - F_{X}(x)\n",
    "$$\n",
    "Lastly, the probability that $X$ (share price at expiration) lies in the interval $(a,b]$, where $a < b$ is given by:\n",
    "$$\n",
    "P(a < X \\leq b) = F_{X}(b) - F_{X}(a)\n",
    "$$\n",
    "In [Julia we can use the `cdf(...)` function exported from the Distributions.jl package](https://juliastats.org/Distributions.jl/stable/univariate/#Distributions.cdf-Tuple{UnivariateDistribution,%20Real}) to compute $F_{S}\\left(x\\right)$."
   ]
  },
  {
   "cell_type": "markdown",
   "id": "4b3af35d-1d92-40d0-9001-f06f70dcc121",
   "metadata": {},
   "source": [
    "#### Visualize CDF\n",
    "Let's use our `d_gbm` and `d_IV` distribution models to visualize the cumulative distribution function for share price of `MU` at contract expiration.\n",
    "\n",
    "`Unhide` the code block below to see how we plotted the cumulative distribution function (CDF) for `MU` share price at contract expiration using the risk-neutral geometric Brownian motion `d_gbm` and IV-based price distributions `d_IV.` "
   ]
  },
  {
   "cell_type": "code",
   "execution_count": 45,
   "id": "727cfef7-965c-4efd-8f86-ac8b3ec14d08",
   "metadata": {
    "jupyter": {
     "source_hidden": true
    }
   },
   "outputs": [
    {
     "ename": "LoadError",
     "evalue": "UndefVarError: `endpoint` not defined in `Main`\nSuggestion: check for spelling errors or missing imports.",
     "output_type": "error",
     "traceback": [
      "UndefVarError: `endpoint` not defined in `Main`\nSuggestion: check for spelling errors or missing imports.",
      "",
      "Stacktrace:",
      " [1] top-level scope",
      "   @ ./In[45]:2"
     ]
    }
   ],
   "source": [
    "X = let\n",
    "    number_of_samples = length(endpoint);\n",
    "    X = Array{Float64,2}(undef, number_of_samples, 3);\n",
    "    S = Array{Float64,1}();\n",
    "    for i ∈ eachindex(endpoint)\n",
    "        push!(S,endpoint[i]);\n",
    "    end\n",
    "    S = sort(S);\n",
    "    \n",
    "    for i ∈ eachindex(S)\n",
    "    \n",
    "        X[i,1] = S[i];\n",
    "        X[i,2] = cdf(d_gbm, S[i]);\n",
    "        X[i,3] = cdf(d_IV, S[i]);\n",
    "    end\n",
    "\n",
    "    plot(X[:,1], X[:,3], lw=3, c=:navy, label=\"IV P(S ≤ x)\", xminorticks=5, yminorticks=5)\n",
    "    plot!(X[:,1], 1 .- X[:,3], lw=3, c=:deepskyblue1, label=\"IV P(S > x)\")\n",
    "\n",
    "    plot!(X[:,1], X[:,2], lw=3, c=:navy, label=\"GBM P(S ≤ x)\", xminorticks=5, yminorticks=5, ls=:dash)\n",
    "    plot!(X[:,1], 1 .- X[:,2], lw=3, c=:deepskyblue1, label=\"GBM P(S > x)\", ls=:dash)\n",
    "\n",
    "    xlabel!(\"MU share price at expiration (x) (USD/share)\", fontsize=18);\n",
    "    ylabel!(\"Probability\", fontsize=18);\n",
    "end"
   ]
  },
  {
   "cell_type": "code",
   "execution_count": 46,
   "id": "ecc91608-892b-4609-a521-4b984e8d8e42",
   "metadata": {},
   "outputs": [],
   "source": [
    "do_I_see_the_CDF_plot = true; # set this value {true | false}"
   ]
  },
  {
   "cell_type": "code",
   "execution_count": 47,
   "id": "21ee5bf1-9fec-44d0-846f-acc5528ecdeb",
   "metadata": {
    "jupyter": {
     "source_hidden": true
    }
   },
   "outputs": [
    {
     "ename": "LoadError",
     "evalue": "UndefVarError: `put_contract_model` not defined in `Main`\nSuggestion: check for spelling errors or missing imports.",
     "output_type": "error",
     "traceback": [
      "UndefVarError: `put_contract_model` not defined in `Main`\nSuggestion: check for spelling errors or missing imports.",
      "",
      "Stacktrace:",
      " [1] top-level scope",
      "   @ In[47]:7"
     ]
    }
   ],
   "source": [
    "B_low, B_high = let\n",
    "\n",
    "    # initialize -\n",
    "    B_low, B_high = 0.0, 0.0; # set breakevens to zero\n",
    "\n",
    "    # Step 1: get short put contract data (index 1)\n",
    "    K₁ = put_contract_model.K;\n",
    "    P₁ = put_contract_model.premium;\n",
    "\n",
    "    # Step 2: get short call contract data (index 2)\n",
    "    K₂ = call_contract_model.K;\n",
    "    P₂ = call_contract_model.premium;\n",
    "\n",
    "    # Step 3: compute the breakeven prices \n",
    "    B_low = K₁ - (P₁ + P₂); # break-even on put side\n",
    "    B_high = K₂ + (P₁ + P₂); # break-even on call side\n",
    "\n",
    "    # return\n",
    "    B_low, B_high\n",
    "end;"
   ]
  },
  {
   "cell_type": "code",
   "execution_count": 48,
   "id": "4819227d-aca8-445c-bb86-e0c4f692de98",
   "metadata": {},
   "outputs": [
    {
     "ename": "LoadError",
     "evalue": "UndefVarError: `B_low` not defined in `Main`\nSuggestion: check for spelling errors or missing imports.",
     "output_type": "error",
     "traceback": [
      "UndefVarError: `B_low` not defined in `Main`\nSuggestion: check for spelling errors or missing imports.",
      "",
      "Stacktrace:",
      " [1] top-level scope",
      "   @ In[48]:1"
     ]
    }
   ],
   "source": [
    "println(\"The low breakeven = $(B_low) USD/share with the high breakeven = $(B_high) USD/share\")"
   ]
  },
  {
   "cell_type": "markdown",
   "id": "19392f32-000f-4450-ac1c-52338c7c3c86",
   "metadata": {},
   "source": [
    "From the CDF curves, what is the (approximate) probability that `MU` shares will close _below_ `90 USD/share` at expiration (use the GBM curve)?"
   ]
  },
  {
   "cell_type": "code",
   "execution_count": 50,
   "id": "d4811594-4ccb-4f7d-a65e-463ecb16ebe2",
   "metadata": {},
   "outputs": [],
   "source": [
    "estimated_probability_of_90_USD_per_share_at_expiration = nothing; # fill in an estimate"
   ]
  },
  {
   "cell_type": "markdown",
   "id": "292ed80b-be7a-4aab-826f-cb2070f3b8d9",
   "metadata": {},
   "source": [
    "### Probability of Various Outcomes\n",
    "Now that we have our cumulative distributions, we can compute the probability of observing various scenarios. Let's consider three scenarios."
   ]
  },
  {
   "cell_type": "markdown",
   "id": "4bd3b425-74a7-4b8e-b301-30c94cdeb39f",
   "metadata": {},
   "source": [
    "__Scenario 1: Downside loss__. In this scenario, the share price at expiration $S_{T}$ is at least $\\epsilon$ _below_ the downside breakeven point $B^{-}$, assuming $\\epsilon \\geq $ `0.01` USD/share. The probability of this scenario occurring is given by $P(S_{T}\\leq{B^{-}} - \\epsilon) = F_{S}\\left(B^{-} - \\epsilon\\right)$."
   ]
  },
  {
   "cell_type": "code",
   "execution_count": 53,
   "id": "11ef7f41-f43a-4f9c-a1b4-c7386c518a4f",
   "metadata": {},
   "outputs": [
    {
     "data": {
      "text/plain": [
       "(nothing, nothing)"
      ]
     },
     "execution_count": 53,
     "metadata": {},
     "output_type": "execute_result"
    }
   ],
   "source": [
    "p_downside_loss_gbm, p_downside_loss_IV = let\n",
    "\n",
    "    # initialize \n",
    "    ϵ = 0.01; # 1/100 USD\n",
    "    p_downside_loss_gbm = nothing;\n",
    "    p_downside_loss_IV = nothing;\n",
    "\n",
    "    # compute P(S < B_low -  ϵ) for the GBM and IV models\n",
    "    p_downside_loss_gbm = nothing; # TODO: update me\n",
    "    p_downside_loss_IV = nothing; # TODO update me\n",
    "\n",
    "    # return data -\n",
    "    p_downside_loss_gbm, p_downside_loss_IV\n",
    "end"
   ]
  },
  {
   "cell_type": "code",
   "execution_count": 54,
   "id": "0564083c-48fb-48e0-b20a-4f6cba122fd6",
   "metadata": {},
   "outputs": [
    {
     "name": "stdout",
     "output_type": "stream",
     "text": [
      "Scenario 1: Probability (GBM,IV) = (nothing,nothing)\n"
     ]
    }
   ],
   "source": [
    "println(\"Scenario 1: Probability (GBM,IV) = ($(p_downside_loss_gbm),$(p_downside_loss_IV))\")"
   ]
  },
  {
   "cell_type": "markdown",
   "id": "8b47c563-6dd9-4982-b8e9-36767dee585b",
   "metadata": {},
   "source": [
    "__Scenario 2: Upside loss__. In this scenario, the share price at expiration $S_{T}$ is at least $\\epsilon$ _above_ the upside breakeven point $B^{+}$, assuming $\\epsilon \\geq $ `0.01` USD/share. The probability of this scenario occurring is given by $P(S_{T}>B^{+} + \\epsilon) = 1 - F_{S}\\left(B^{+} + \\epsilon\\right)$."
   ]
  },
  {
   "cell_type": "code",
   "execution_count": 56,
   "id": "17cce40d-0fb7-4ee9-8779-bb0f7bc5726e",
   "metadata": {},
   "outputs": [],
   "source": [
    "p_upside_loss_gbm, p_upside_loss_IV = let\n",
    "\n",
    "    # initialize \n",
    "    ϵ = 0.01; # 1/100 USD\n",
    "    p_upside_loss_gbm = nothing;\n",
    "    p_upside_loss_IV = nothing;\n",
    "\n",
    "    # compute P(S > B_low +  ϵ) for the GBM and IV models\n",
    "    p_upside_loss_gbm = nothing; # TODO: update me\n",
    "    p_upside_loss_IV = nothing; # TODO: update me\n",
    "\n",
    "    # return data -\n",
    "    p_upside_loss_gbm, p_upside_loss_IV\n",
    "end;"
   ]
  },
  {
   "cell_type": "code",
   "execution_count": 57,
   "id": "8d118675-3b21-4e24-9a67-f464092dc8a9",
   "metadata": {},
   "outputs": [
    {
     "name": "stdout",
     "output_type": "stream",
     "text": [
      "Scenario 2: Probability (GBM,IV) = (nothing,nothing)\n"
     ]
    }
   ],
   "source": [
    "println(\"Scenario 2: Probability (GBM,IV) = ($(p_upside_loss_gbm),$(p_upside_loss_IV))\")"
   ]
  },
  {
   "cell_type": "markdown",
   "id": "5003800c-c720-4410-8e5b-e468ce91c628",
   "metadata": {},
   "source": [
    "__Scenario 3: Maximum profit__. In this scenario, the share price at expiration $S_{T}$ is between the strike prices $K_{1}$ and $K_{2}$. The probability of this scenario occurring is given by $P(K_{1} < S_{T} \\leq{K_{2}}) = F_{S}\\left(K_{2}\\right) - F_{S}\\left(K_{1} + \\epsilon\\right)$, assuming $\\epsilon \\geq $ `0.01` USD/share."
   ]
  },
  {
   "cell_type": "code",
   "execution_count": 59,
   "id": "b46e5f5d-ed69-4a8d-8fe6-69bc9c52f41b",
   "metadata": {},
   "outputs": [],
   "source": [
    "p_max_profit_gbm, p_max_profit_IV = let\n",
    "\n",
    "    # initialize \n",
    "    ϵ = 0.01; # 1/100 USD\n",
    "    p_max_profit_gbm = nothing;\n",
    "    p_max_profit_IV = nothing;\n",
    "\n",
    "    # compute the probability P(S_low < S_{T} ≤ S_high) for the GBM and IV\n",
    "    p_max_profit_gbm = nothing; # TODO update me\n",
    "    p_max_profit_IV = nothing; # TODO update me\n",
    "\n",
    "    # return data -\n",
    "    p_max_profit_gbm, p_max_profit_IV\n",
    "end;"
   ]
  },
  {
   "cell_type": "code",
   "execution_count": 60,
   "id": "373bd5f6-5cd2-4aa3-90c9-711855736a49",
   "metadata": {},
   "outputs": [
    {
     "name": "stdout",
     "output_type": "stream",
     "text": [
      "Scenario 3: Probability (GBM,IV) = (nothing,nothing)\n"
     ]
    }
   ],
   "source": [
    "println(\"Scenario 3: Probability (GBM,IV) = ($(p_max_profit_gbm),$(p_max_profit_IV))\")"
   ]
  },
  {
   "cell_type": "markdown",
   "id": "75f5f04f-2d84-4d8a-a4df-0f7d47a0257a",
   "metadata": {},
   "source": [
    "#### Probability of profit (POP) table\n",
    "`Unhide` the code block below to see how we developed a table displaying the probability of profit calculations for an `MU` put option using the risk-neutral geometric Brownian motion `d_gbm` and IV-based price distributions `d_IV.` \n",
    "* __Summary__: For each random combination of `MU` call and put contracts, the maximum profit and the probability of the various outcomes will change. However, if you rerun the notebook a few times, some interesting patterns emerge. "
   ]
  },
  {
   "cell_type": "code",
   "execution_count": 62,
   "id": "a3862be4-1bcc-42ee-a1de-e40d8909667b",
   "metadata": {
    "jupyter": {
     "source_hidden": true
    }
   },
   "outputs": [
    {
     "ename": "LoadError",
     "evalue": "UndefVarError: `put_contract_model` not defined in `Main`\nSuggestion: check for spelling errors or missing imports.",
     "output_type": "error",
     "traceback": [
      "UndefVarError: `put_contract_model` not defined in `Main`\nSuggestion: check for spelling errors or missing imports.",
      "",
      "Stacktrace:",
      " [1] top-level scope",
      "   @ In[62]:7"
     ]
    }
   ],
   "source": [
    "let \n",
    "    \n",
    "    table_df = DataFrame()\n",
    "    ϵ = 0.01;\n",
    "\n",
    "    # GBM row -\n",
    "    gbm_row = (\n",
    "        model=\"GBM\",\n",
    "        Sₒ = Sₒ,\n",
    "        DTE = DTE,\n",
    "        put_K₁ = put_contract_model.K,\n",
    "        call_K₂ = call_contract_model.K,\n",
    "        max_profit = (call_contract_model.premium + put_contract_model.premium),\n",
    "        p_max_profit = p_max_profit_gbm,\n",
    "        p_downside_loss = p_downside_loss_gbm,\n",
    "        p_upside_loss = p_upside_loss_gbm,\n",
    "    );\n",
    "    push!(table_df, gbm_row);\n",
    "\n",
    "    # IV row -\n",
    "    IV_row = (\n",
    "        model=\"IV\",\n",
    "        Sₒ = Sₒ,\n",
    "        DTE = DTE,\n",
    "        put_K₁ = put_contract_model.K,\n",
    "        call_K₂ = call_contract_model.K,\n",
    "        max_profit = (call_contract_model.premium + put_contract_model.premium),\n",
    "        p_max_profit = p_max_profit_IV,\n",
    "        p_downside_loss = p_downside_loss_IV,\n",
    "        p_upside_loss = p_upside_loss_IV,\n",
    "    );\n",
    "    push!(table_df, IV_row);\n",
    "    \n",
    "    # make a table -\n",
    "    pretty_table(table_df)\n",
    "end"
   ]
  },
  {
   "cell_type": "code",
   "execution_count": 63,
   "id": "1bcd6871-ace1-4a6e-8aaa-4f22923a925d",
   "metadata": {},
   "outputs": [],
   "source": [
    "do_I_see_the_POP_table = false; # set this value {true | false}"
   ]
  },
  {
   "cell_type": "markdown",
   "id": "14e1b556-81ee-4a3e-8885-8ca121893a21",
   "metadata": {},
   "source": [
    "### Discussion questions\n",
    "1. What directional relationship `{direct | inverse}` between maximum profit and the probability of max profit do you observe (run a few times, collect the data)? Why would you expect the pattern that you observed?\n",
    "2. A [tastylive](https://www.tastylive.com/) rule of thumb is to place the strikes such that you collect `1/3` the width of the strikes in premium. Do you see anything close to this rule of thumb in your `MU` data? If so, what are the $\\Delta$ of the legs?"
   ]
  },
  {
   "cell_type": "markdown",
   "id": "3628f470-53aa-4360-bf39-566a5c5fe6f4",
   "metadata": {},
   "source": [
    "## Tests\n",
    "In the code block below, we check some values in your notebook and give you feedback on which items are correct or different. `Unhide` the code block below (if you are curious) about how we implemented the tests and what we are testing."
   ]
  },
  {
   "cell_type": "code",
   "execution_count": 66,
   "id": "506c6aa2-14d9-4e18-8d77-10578fc4ab45",
   "metadata": {
    "jupyter": {
     "source_hidden": true
    }
   },
   "outputs": [
    {
     "name": "stdout",
     "output_type": "stream",
     "text": [
      "Task 2: Build Contract models, profit diagram and breakeven: \u001b[91m\u001b[1mError During Test\u001b[22m\u001b[39m at \u001b[39m\u001b[1mIn[66]:12\u001b[22m\n",
      "  Test threw exception\n",
      "  Expression: typeof(put_contract_model) == MyAmericanPutContractModel\n",
      "  UndefVarError: `put_contract_model` not defined in `Main`\n",
      "  Suggestion: check for spelling errors or missing imports.\n",
      "  Stacktrace:\n",
      "   [1] \u001b[0m\u001b[1mmacro expansion\u001b[22m\n",
      "  \u001b[90m   @\u001b[39m \u001b[90m~/.julia/juliaup/julia-1.11.1+0.aarch64.apple.darwin14/share/julia/stdlib/v1.11/Test/src/\u001b[39m\u001b[90m\u001b[4mTest.jl:676\u001b[24m\u001b[39m\u001b[90m [inlined]\u001b[39m\n",
      "   [2] \u001b[0m\u001b[1mmacro expansion\u001b[22m\n",
      "  \u001b[90m   @\u001b[39m \u001b[90m\u001b[4mIn[66]:12\u001b[24m\u001b[39m\u001b[90m [inlined]\u001b[39m\n",
      "   [3] \u001b[0m\u001b[1mmacro expansion\u001b[22m\n",
      "  \u001b[90m   @\u001b[39m \u001b[90m~/.julia/juliaup/julia-1.11.1+0.aarch64.apple.darwin14/share/julia/stdlib/v1.11/Test/src/\u001b[39m\u001b[90m\u001b[4mTest.jl:1700\u001b[24m\u001b[39m\u001b[90m [inlined]\u001b[39m\n",
      "   [4] \u001b[0m\u001b[1mmacro expansion\u001b[22m\n",
      "  \u001b[90m   @\u001b[39m \u001b[90m\u001b[4mIn[66]:12\u001b[24m\u001b[39m\u001b[90m [inlined]\u001b[39m\n",
      "   [5] \u001b[0m\u001b[1mmacro expansion\u001b[22m\n",
      "  \u001b[90m   @\u001b[39m \u001b[90m~/.julia/juliaup/julia-1.11.1+0.aarch64.apple.darwin14/share/julia/stdlib/v1.11/Test/src/\u001b[39m\u001b[90m\u001b[4mTest.jl:1700\u001b[24m\u001b[39m\u001b[90m [inlined]\u001b[39m\n",
      "   [6] top-level scope\n",
      "  \u001b[90m   @\u001b[39m \u001b[90m\u001b[4mIn[66]:4\u001b[24m\u001b[39m\n",
      "Task 2: Build Contract models, profit diagram and breakeven: \u001b[91m\u001b[1mError During Test\u001b[22m\u001b[39m at \u001b[39m\u001b[1mIn[66]:13\u001b[22m\n",
      "  Test threw exception\n",
      "  Expression: typeof(call_contract_model) == MyAmericanCallContractModel\n",
      "  UndefVarError: `call_contract_model` not defined in `Main`\n",
      "  Suggestion: check for spelling errors or missing imports.\n",
      "  Stacktrace:\n",
      "   [1] \u001b[0m\u001b[1mmacro expansion\u001b[22m\n",
      "  \u001b[90m   @\u001b[39m \u001b[90m~/.julia/juliaup/julia-1.11.1+0.aarch64.apple.darwin14/share/julia/stdlib/v1.11/Test/src/\u001b[39m\u001b[90m\u001b[4mTest.jl:676\u001b[24m\u001b[39m\u001b[90m [inlined]\u001b[39m\n",
      "   [2] \u001b[0m\u001b[1mmacro expansion\u001b[22m\n",
      "  \u001b[90m   @\u001b[39m \u001b[90m\u001b[4mIn[66]:13\u001b[24m\u001b[39m\u001b[90m [inlined]\u001b[39m\n",
      "   [3] \u001b[0m\u001b[1mmacro expansion\u001b[22m\n",
      "  \u001b[90m   @\u001b[39m \u001b[90m~/.julia/juliaup/julia-1.11.1+0.aarch64.apple.darwin14/share/julia/stdlib/v1.11/Test/src/\u001b[39m\u001b[90m\u001b[4mTest.jl:1700\u001b[24m\u001b[39m\u001b[90m [inlined]\u001b[39m\n",
      "   [4] \u001b[0m\u001b[1mmacro expansion\u001b[22m\n",
      "  \u001b[90m   @\u001b[39m \u001b[90m\u001b[4mIn[66]:12\u001b[24m\u001b[39m\u001b[90m [inlined]\u001b[39m\n",
      "   [5] \u001b[0m\u001b[1mmacro expansion\u001b[22m\n",
      "  \u001b[90m   @\u001b[39m \u001b[90m~/.julia/juliaup/julia-1.11.1+0.aarch64.apple.darwin14/share/julia/stdlib/v1.11/Test/src/\u001b[39m\u001b[90m\u001b[4mTest.jl:1700\u001b[24m\u001b[39m\u001b[90m [inlined]\u001b[39m\n",
      "   [6] top-level scope\n",
      "  \u001b[90m   @\u001b[39m \u001b[90m\u001b[4mIn[66]:4\u001b[24m\u001b[39m\n",
      "Task 2: Build Contract models, profit diagram and breakeven: \u001b[91m\u001b[1mError During Test\u001b[22m\u001b[39m at \u001b[39m\u001b[1mIn[66]:14\u001b[22m\n",
      "  Test threw exception\n",
      "  Expression: isempty(profit_array) == false\n",
      "  MethodError: no method matching iterate(::Nothing)\n",
      "  The function `iterate` exists, but no method is defined for this combination of argument types.\n",
      "  \n",
      "  \u001b[0mClosest candidates are:\n",
      "  \u001b[0m  iterate(\u001b[91m::Base.MethodSpecializations\u001b[39m)\n",
      "  \u001b[0m\u001b[90m   @\u001b[39m \u001b[90mBase\u001b[39m \u001b[90m\u001b[4mreflection.jl:1299\u001b[24m\u001b[39m\n",
      "  \u001b[0m  iterate(\u001b[91m::Base.MethodSpecializations\u001b[39m, \u001b[91m::Nothing\u001b[39m)\n",
      "  \u001b[0m\u001b[90m   @\u001b[39m \u001b[90mBase\u001b[39m \u001b[90m\u001b[4mreflection.jl:1305\u001b[24m\u001b[39m\n",
      "  \u001b[0m  iterate(\u001b[91m::Base.MethodSpecializations\u001b[39m, \u001b[91m::Int64\u001b[39m)\n",
      "  \u001b[0m\u001b[90m   @\u001b[39m \u001b[90mBase\u001b[39m \u001b[90m\u001b[4mreflection.jl:1306\u001b[24m\u001b[39m\n",
      "  \u001b[0m  ...\n",
      "  \n",
      "  Stacktrace:\n",
      "   [1] \u001b[0m\u001b[1misempty\u001b[22m\u001b[0m\u001b[1m(\u001b[22m\u001b[90mitr\u001b[39m::\u001b[0mNothing\u001b[0m\u001b[1m)\u001b[22m\n",
      "  \u001b[90m   @\u001b[39m \u001b[90mBase\u001b[39m \u001b[90m./\u001b[39m\u001b[90m\u001b[4messentials.jl:1121\u001b[24m\u001b[39m\n",
      "   [2] \u001b[0m\u001b[1mmacro expansion\u001b[22m\n",
      "  \u001b[90m   @\u001b[39m \u001b[90m~/.julia/juliaup/julia-1.11.1+0.aarch64.apple.darwin14/share/julia/stdlib/v1.11/Test/src/\u001b[39m\u001b[90m\u001b[4mTest.jl:676\u001b[24m\u001b[39m\u001b[90m [inlined]\u001b[39m\n",
      "   [3] \u001b[0m\u001b[1mmacro expansion\u001b[22m\n",
      "  \u001b[90m   @\u001b[39m \u001b[90m\u001b[4mIn[66]:14\u001b[24m\u001b[39m\u001b[90m [inlined]\u001b[39m\n",
      "   [4] \u001b[0m\u001b[1mmacro expansion\u001b[22m\n",
      "  \u001b[90m   @\u001b[39m \u001b[90m~/.julia/juliaup/julia-1.11.1+0.aarch64.apple.darwin14/share/julia/stdlib/v1.11/Test/src/\u001b[39m\u001b[90m\u001b[4mTest.jl:1700\u001b[24m\u001b[39m\u001b[90m [inlined]\u001b[39m\n",
      "   [5] \u001b[0m\u001b[1mmacro expansion\u001b[22m\n",
      "  \u001b[90m   @\u001b[39m \u001b[90m\u001b[4mIn[66]:12\u001b[24m\u001b[39m\u001b[90m [inlined]\u001b[39m\n",
      "   [6] \u001b[0m\u001b[1mmacro expansion\u001b[22m\n",
      "  \u001b[90m   @\u001b[39m \u001b[90m~/.julia/juliaup/julia-1.11.1+0.aarch64.apple.darwin14/share/julia/stdlib/v1.11/Test/src/\u001b[39m\u001b[90m\u001b[4mTest.jl:1700\u001b[24m\u001b[39m\u001b[90m [inlined]\u001b[39m\n",
      "   [7] top-level scope\n",
      "  \u001b[90m   @\u001b[39m \u001b[90m\u001b[4mIn[66]:4\u001b[24m\u001b[39m\n",
      "Task 2: Build Contract models, profit diagram and breakeven: \u001b[91m\u001b[1mError During Test\u001b[22m\u001b[39m at \u001b[39m\u001b[1mIn[66]:15\u001b[22m\n",
      "  Test threw exception\n",
      "  Expression: (B_low isa Number) == true\n",
      "  UndefVarError: `B_low` not defined in `Main`\n",
      "  Suggestion: check for spelling errors or missing imports.\n",
      "  Stacktrace:\n",
      "   [1] \u001b[0m\u001b[1mmacro expansion\u001b[22m\n",
      "  \u001b[90m   @\u001b[39m \u001b[90m~/.julia/juliaup/julia-1.11.1+0.aarch64.apple.darwin14/share/julia/stdlib/v1.11/Test/src/\u001b[39m\u001b[90m\u001b[4mTest.jl:676\u001b[24m\u001b[39m\u001b[90m [inlined]\u001b[39m\n",
      "   [2] \u001b[0m\u001b[1mmacro expansion\u001b[22m\n",
      "  \u001b[90m   @\u001b[39m \u001b[90m\u001b[4mIn[66]:15\u001b[24m\u001b[39m\u001b[90m [inlined]\u001b[39m\n",
      "   [3] \u001b[0m\u001b[1mmacro expansion\u001b[22m\n",
      "  \u001b[90m   @\u001b[39m \u001b[90m~/.julia/juliaup/julia-1.11.1+0.aarch64.apple.darwin14/share/julia/stdlib/v1.11/Test/src/\u001b[39m\u001b[90m\u001b[4mTest.jl:1700\u001b[24m\u001b[39m\u001b[90m [inlined]\u001b[39m\n",
      "   [4] \u001b[0m\u001b[1mmacro expansion\u001b[22m\n",
      "  \u001b[90m   @\u001b[39m \u001b[90m\u001b[4mIn[66]:12\u001b[24m\u001b[39m\u001b[90m [inlined]\u001b[39m\n",
      "   [5] \u001b[0m\u001b[1mmacro expansion\u001b[22m\n",
      "  \u001b[90m   @\u001b[39m \u001b[90m~/.julia/juliaup/julia-1.11.1+0.aarch64.apple.darwin14/share/julia/stdlib/v1.11/Test/src/\u001b[39m\u001b[90m\u001b[4mTest.jl:1700\u001b[24m\u001b[39m\u001b[90m [inlined]\u001b[39m\n",
      "   [6] top-level scope\n",
      "  \u001b[90m   @\u001b[39m \u001b[90m\u001b[4mIn[66]:4\u001b[24m\u001b[39m\n",
      "Task 2: Build Contract models, profit diagram and breakeven: \u001b[91m\u001b[1mError During Test\u001b[22m\u001b[39m at \u001b[39m\u001b[1mIn[66]:16\u001b[22m\n",
      "  Test threw exception\n",
      "  Expression: (B_high isa Number) == true\n",
      "  UndefVarError: `B_high` not defined in `Main`\n",
      "  Suggestion: check for spelling errors or missing imports.\n",
      "  Stacktrace:\n",
      "   [1] \u001b[0m\u001b[1mmacro expansion\u001b[22m\n",
      "  \u001b[90m   @\u001b[39m \u001b[90m~/.julia/juliaup/julia-1.11.1+0.aarch64.apple.darwin14/share/julia/stdlib/v1.11/Test/src/\u001b[39m\u001b[90m\u001b[4mTest.jl:676\u001b[24m\u001b[39m\u001b[90m [inlined]\u001b[39m\n",
      "   [2] \u001b[0m\u001b[1mmacro expansion\u001b[22m\n",
      "  \u001b[90m   @\u001b[39m \u001b[90m\u001b[4mIn[66]:16\u001b[24m\u001b[39m\u001b[90m [inlined]\u001b[39m\n",
      "   [3] \u001b[0m\u001b[1mmacro expansion\u001b[22m\n",
      "  \u001b[90m   @\u001b[39m \u001b[90m~/.julia/juliaup/julia-1.11.1+0.aarch64.apple.darwin14/share/julia/stdlib/v1.11/Test/src/\u001b[39m\u001b[90m\u001b[4mTest.jl:1700\u001b[24m\u001b[39m\u001b[90m [inlined]\u001b[39m\n",
      "   [4] \u001b[0m\u001b[1mmacro expansion\u001b[22m\n",
      "  \u001b[90m   @\u001b[39m \u001b[90m\u001b[4mIn[66]:12\u001b[24m\u001b[39m\u001b[90m [inlined]\u001b[39m\n",
      "   [5] \u001b[0m\u001b[1mmacro expansion\u001b[22m\n",
      "  \u001b[90m   @\u001b[39m \u001b[90m~/.julia/juliaup/julia-1.11.1+0.aarch64.apple.darwin14/share/julia/stdlib/v1.11/Test/src/\u001b[39m\u001b[90m\u001b[4mTest.jl:1700\u001b[24m\u001b[39m\u001b[90m [inlined]\u001b[39m\n",
      "   [6] top-level scope\n",
      "  \u001b[90m   @\u001b[39m \u001b[90m\u001b[4mIn[66]:4\u001b[24m\u001b[39m\n",
      "Task 2: Build Contract models, profit diagram and breakeven: \u001b[91m\u001b[1mTest Failed\u001b[22m\u001b[39m at \u001b[39m\u001b[1mIn[66]:17\u001b[22m\n",
      "  Expression: do_I_see_the_profit_loss_plot == true\n",
      "   Evaluated: false == true\n",
      "\n",
      "Stacktrace:\n",
      " [1] \u001b[0m\u001b[1mmacro expansion\u001b[22m\n",
      "\u001b[90m   @\u001b[39m \u001b[90m~/.julia/juliaup/julia-1.11.1+0.aarch64.apple.darwin14/share/julia/stdlib/v1.11/Test/src/\u001b[39m\u001b[90m\u001b[4mTest.jl:679\u001b[24m\u001b[39m\u001b[90m [inlined]\u001b[39m\n",
      " [2] \u001b[0m\u001b[1mmacro expansion\u001b[22m\n",
      "\u001b[90m   @\u001b[39m \u001b[90m\u001b[4mIn[66]:17\u001b[24m\u001b[39m\u001b[90m [inlined]\u001b[39m\n",
      " [3] \u001b[0m\u001b[1mmacro expansion\u001b[22m\n",
      "\u001b[90m   @\u001b[39m \u001b[90m~/.julia/juliaup/julia-1.11.1+0.aarch64.apple.darwin14/share/julia/stdlib/v1.11/Test/src/\u001b[39m\u001b[90m\u001b[4mTest.jl:1700\u001b[24m\u001b[39m\u001b[90m [inlined]\u001b[39m\n",
      " [4] \u001b[0m\u001b[1mmacro expansion\u001b[22m\n",
      "\u001b[90m   @\u001b[39m \u001b[90m\u001b[4mIn[66]:12\u001b[24m\u001b[39m\u001b[90m [inlined]\u001b[39m\n",
      " [5] \u001b[0m\u001b[1mmacro expansion\u001b[22m\n",
      "\u001b[90m   @\u001b[39m \u001b[90m~/.julia/juliaup/julia-1.11.1+0.aarch64.apple.darwin14/share/julia/stdlib/v1.11/Test/src/\u001b[39m\u001b[90m\u001b[4mTest.jl:1700\u001b[24m\u001b[39m\u001b[90m [inlined]\u001b[39m\n",
      " [6] top-level scope\n",
      "\u001b[90m   @\u001b[39m \u001b[90m\u001b[4mIn[66]:4\u001b[24m\u001b[39m\n",
      "Task 3: POP calculations: \u001b[91m\u001b[1mError During Test\u001b[22m\u001b[39m at \u001b[39m\u001b[1mIn[66]:21\u001b[22m\n",
      "  Test threw exception\n",
      "  Expression: typeof(model) == MyGeometricBrownianMotionEquityModel\n",
      "  UndefVarError: `model` not defined in `Main`\n",
      "  Suggestion: check for spelling errors or missing imports.\n",
      "  Stacktrace:\n",
      "   [1] \u001b[0m\u001b[1mmacro expansion\u001b[22m\n",
      "  \u001b[90m   @\u001b[39m \u001b[90m~/.julia/juliaup/julia-1.11.1+0.aarch64.apple.darwin14/share/julia/stdlib/v1.11/Test/src/\u001b[39m\u001b[90m\u001b[4mTest.jl:676\u001b[24m\u001b[39m\u001b[90m [inlined]\u001b[39m\n",
      "   [2] \u001b[0m\u001b[1mmacro expansion\u001b[22m\n",
      "  \u001b[90m   @\u001b[39m \u001b[90m\u001b[4mIn[66]:21\u001b[24m\u001b[39m\u001b[90m [inlined]\u001b[39m\n",
      "   [3] \u001b[0m\u001b[1mmacro expansion\u001b[22m\n",
      "  \u001b[90m   @\u001b[39m \u001b[90m~/.julia/juliaup/julia-1.11.1+0.aarch64.apple.darwin14/share/julia/stdlib/v1.11/Test/src/\u001b[39m\u001b[90m\u001b[4mTest.jl:1700\u001b[24m\u001b[39m\u001b[90m [inlined]\u001b[39m\n",
      "   [4] \u001b[0m\u001b[1mmacro expansion\u001b[22m\n",
      "  \u001b[90m   @\u001b[39m \u001b[90m\u001b[4mIn[66]:21\u001b[24m\u001b[39m\u001b[90m [inlined]\u001b[39m\n",
      "   [5] \u001b[0m\u001b[1mmacro expansion\u001b[22m\n",
      "  \u001b[90m   @\u001b[39m \u001b[90m~/.julia/juliaup/julia-1.11.1+0.aarch64.apple.darwin14/share/julia/stdlib/v1.11/Test/src/\u001b[39m\u001b[90m\u001b[4mTest.jl:1700\u001b[24m\u001b[39m\u001b[90m [inlined]\u001b[39m\n",
      "   [6] top-level scope\n",
      "  \u001b[90m   @\u001b[39m \u001b[90m\u001b[4mIn[66]:4\u001b[24m\u001b[39m\n",
      "Task 3: POP calculations: \u001b[91m\u001b[1mError During Test\u001b[22m\u001b[39m at \u001b[39m\u001b[1mIn[66]:22\u001b[22m\n",
      "  Test threw exception\n",
      "  Expression: (σ̄ isa Number) == true\n",
      "  UndefVarError: `σ̄` not defined in `Main`\n",
      "  Suggestion: check for spelling errors or missing imports.\n",
      "  Stacktrace:\n",
      "   [1] \u001b[0m\u001b[1mmacro expansion\u001b[22m\n",
      "  \u001b[90m   @\u001b[39m \u001b[90m~/.julia/juliaup/julia-1.11.1+0.aarch64.apple.darwin14/share/julia/stdlib/v1.11/Test/src/\u001b[39m\u001b[90m\u001b[4mTest.jl:676\u001b[24m\u001b[39m\u001b[90m [inlined]\u001b[39m\n",
      "   [2] \u001b[0m\u001b[1mmacro expansion\u001b[22m\n",
      "  \u001b[90m   @\u001b[39m \u001b[90m\u001b[4mIn[66]:22\u001b[24m\u001b[39m\u001b[90m [inlined]\u001b[39m\n",
      "   [3] \u001b[0m\u001b[1mmacro expansion\u001b[22m\n",
      "  \u001b[90m   @\u001b[39m \u001b[90m~/.julia/juliaup/julia-1.11.1+0.aarch64.apple.darwin14/share/julia/stdlib/v1.11/Test/src/\u001b[39m\u001b[90m\u001b[4mTest.jl:1700\u001b[24m\u001b[39m\u001b[90m [inlined]\u001b[39m\n",
      "   [4] \u001b[0m\u001b[1mmacro expansion\u001b[22m\n",
      "  \u001b[90m   @\u001b[39m \u001b[90m\u001b[4mIn[66]:21\u001b[24m\u001b[39m\u001b[90m [inlined]\u001b[39m\n",
      "   [5] \u001b[0m\u001b[1mmacro expansion\u001b[22m\n",
      "  \u001b[90m   @\u001b[39m \u001b[90m~/.julia/juliaup/julia-1.11.1+0.aarch64.apple.darwin14/share/julia/stdlib/v1.11/Test/src/\u001b[39m\u001b[90m\u001b[4mTest.jl:1700\u001b[24m\u001b[39m\u001b[90m [inlined]\u001b[39m\n",
      "   [6] top-level scope\n",
      "  \u001b[90m   @\u001b[39m \u001b[90m\u001b[4mIn[66]:4\u001b[24m\u001b[39m\n",
      "Task 3: POP calculations: \u001b[91m\u001b[1mError During Test\u001b[22m\u001b[39m at \u001b[39m\u001b[1mIn[66]:23\u001b[22m\n",
      "  Test threw exception\n",
      "  Expression: (σ̄ > 0) == true\n",
      "  UndefVarError: `σ̄` not defined in `Main`\n",
      "  Suggestion: check for spelling errors or missing imports.\n",
      "  Stacktrace:\n",
      "   [1] \u001b[0m\u001b[1mmacro expansion\u001b[22m\n",
      "  \u001b[90m   @\u001b[39m \u001b[90m~/.julia/juliaup/julia-1.11.1+0.aarch64.apple.darwin14/share/julia/stdlib/v1.11/Test/src/\u001b[39m\u001b[90m\u001b[4mTest.jl:676\u001b[24m\u001b[39m\u001b[90m [inlined]\u001b[39m\n",
      "   [2] \u001b[0m\u001b[1mmacro expansion\u001b[22m\n",
      "  \u001b[90m   @\u001b[39m \u001b[90m\u001b[4mIn[66]:23\u001b[24m\u001b[39m\u001b[90m [inlined]\u001b[39m\n",
      "   [3] \u001b[0m\u001b[1mmacro expansion\u001b[22m\n",
      "  \u001b[90m   @\u001b[39m \u001b[90m~/.julia/juliaup/julia-1.11.1+0.aarch64.apple.darwin14/share/julia/stdlib/v1.11/Test/src/\u001b[39m\u001b[90m\u001b[4mTest.jl:1700\u001b[24m\u001b[39m\u001b[90m [inlined]\u001b[39m\n",
      "   [4] \u001b[0m\u001b[1mmacro expansion\u001b[22m\n",
      "  \u001b[90m   @\u001b[39m \u001b[90m\u001b[4mIn[66]:21\u001b[24m\u001b[39m\u001b[90m [inlined]\u001b[39m\n",
      "   [5] \u001b[0m\u001b[1mmacro expansion\u001b[22m\n",
      "  \u001b[90m   @\u001b[39m \u001b[90m~/.julia/juliaup/julia-1.11.1+0.aarch64.apple.darwin14/share/julia/stdlib/v1.11/Test/src/\u001b[39m\u001b[90m\u001b[4mTest.jl:1700\u001b[24m\u001b[39m\u001b[90m [inlined]\u001b[39m\n",
      "   [6] top-level scope\n",
      "  \u001b[90m   @\u001b[39m \u001b[90m\u001b[4mIn[66]:4\u001b[24m\u001b[39m\n",
      "Task 3: POP calculations: \u001b[91m\u001b[1mError During Test\u001b[22m\u001b[39m at \u001b[39m\u001b[1mIn[66]:24\u001b[22m\n",
      "  Test threw exception\n",
      "  Expression: isempty(endpoint) == false\n",
      "  UndefVarError: `endpoint` not defined in `Main`\n",
      "  Suggestion: check for spelling errors or missing imports.\n",
      "  Stacktrace:\n",
      "   [1] \u001b[0m\u001b[1mmacro expansion\u001b[22m\n",
      "  \u001b[90m   @\u001b[39m \u001b[90m~/.julia/juliaup/julia-1.11.1+0.aarch64.apple.darwin14/share/julia/stdlib/v1.11/Test/src/\u001b[39m\u001b[90m\u001b[4mTest.jl:676\u001b[24m\u001b[39m\u001b[90m [inlined]\u001b[39m\n",
      "   [2] \u001b[0m\u001b[1mmacro expansion\u001b[22m\n",
      "  \u001b[90m   @\u001b[39m \u001b[90m\u001b[4mIn[66]:24\u001b[24m\u001b[39m\u001b[90m [inlined]\u001b[39m\n",
      "   [3] \u001b[0m\u001b[1mmacro expansion\u001b[22m\n",
      "  \u001b[90m   @\u001b[39m \u001b[90m~/.julia/juliaup/julia-1.11.1+0.aarch64.apple.darwin14/share/julia/stdlib/v1.11/Test/src/\u001b[39m\u001b[90m\u001b[4mTest.jl:1700\u001b[24m\u001b[39m\u001b[90m [inlined]\u001b[39m\n",
      "   [4] \u001b[0m\u001b[1mmacro expansion\u001b[22m\n",
      "  \u001b[90m   @\u001b[39m \u001b[90m\u001b[4mIn[66]:21\u001b[24m\u001b[39m\u001b[90m [inlined]\u001b[39m\n",
      "   [5] \u001b[0m\u001b[1mmacro expansion\u001b[22m\n",
      "  \u001b[90m   @\u001b[39m \u001b[90m~/.julia/juliaup/julia-1.11.1+0.aarch64.apple.darwin14/share/julia/stdlib/v1.11/Test/src/\u001b[39m\u001b[90m\u001b[4mTest.jl:1700\u001b[24m\u001b[39m\u001b[90m [inlined]\u001b[39m\n",
      "   [6] top-level scope\n",
      "  \u001b[90m   @\u001b[39m \u001b[90m\u001b[4mIn[66]:4\u001b[24m\u001b[39m\n",
      "Task 3: POP calculations: \u001b[91m\u001b[1mTest Failed\u001b[22m\u001b[39m at \u001b[39m\u001b[1mIn[66]:25\u001b[22m\n",
      "  Expression: do_I_see_the_share_price_plot == true\n",
      "   Evaluated: false == true\n",
      "\n",
      "Stacktrace:\n",
      " [1] \u001b[0m\u001b[1mmacro expansion\u001b[22m\n",
      "\u001b[90m   @\u001b[39m \u001b[90m~/.julia/juliaup/julia-1.11.1+0.aarch64.apple.darwin14/share/julia/stdlib/v1.11/Test/src/\u001b[39m\u001b[90m\u001b[4mTest.jl:679\u001b[24m\u001b[39m\u001b[90m [inlined]\u001b[39m\n",
      " [2] \u001b[0m\u001b[1mmacro expansion\u001b[22m\n",
      "\u001b[90m   @\u001b[39m \u001b[90m\u001b[4mIn[66]:25\u001b[24m\u001b[39m\u001b[90m [inlined]\u001b[39m\n",
      " [3] \u001b[0m\u001b[1mmacro expansion\u001b[22m\n",
      "\u001b[90m   @\u001b[39m \u001b[90m~/.julia/juliaup/julia-1.11.1+0.aarch64.apple.darwin14/share/julia/stdlib/v1.11/Test/src/\u001b[39m\u001b[90m\u001b[4mTest.jl:1700\u001b[24m\u001b[39m\u001b[90m [inlined]\u001b[39m\n",
      " [4] \u001b[0m\u001b[1mmacro expansion\u001b[22m\n",
      "\u001b[90m   @\u001b[39m \u001b[90m\u001b[4mIn[66]:21\u001b[24m\u001b[39m\u001b[90m [inlined]\u001b[39m\n",
      " [5] \u001b[0m\u001b[1mmacro expansion\u001b[22m\n",
      "\u001b[90m   @\u001b[39m \u001b[90m~/.julia/juliaup/julia-1.11.1+0.aarch64.apple.darwin14/share/julia/stdlib/v1.11/Test/src/\u001b[39m\u001b[90m\u001b[4mTest.jl:1700\u001b[24m\u001b[39m\u001b[90m [inlined]\u001b[39m\n",
      " [6] top-level scope\n",
      "\u001b[90m   @\u001b[39m \u001b[90m\u001b[4mIn[66]:4\u001b[24m\u001b[39m\n",
      "Task 3: POP calculations: \u001b[91m\u001b[1mError During Test\u001b[22m\u001b[39m at \u001b[39m\u001b[1mIn[66]:27\u001b[22m\n",
      "  Test threw exception\n",
      "  Expression: isapprox(estimated_probability_of_90_USD_per_share_at_expiration, 0.7) == true\n",
      "  MethodError: no method matching isapprox(::Nothing, ::Float64)\n",
      "  The function `isapprox` exists, but no method is defined for this combination of argument types.\n",
      "  \n",
      "  \u001b[0mClosest candidates are:\n",
      "  \u001b[0m  isapprox(::Any, ::Any, \u001b[91m::MathOptInterface.Test.Config{T}\u001b[39m) where T\n",
      "  \u001b[0m\u001b[90m   @\u001b[39m \u001b[32mMathOptInterface\u001b[39m \u001b[90m~/.julia/packages/MathOptInterface/gLl4d/src/Test/\u001b[39m\u001b[90m\u001b[4mTest.jl:355\u001b[24m\u001b[39m\n",
      "  \u001b[0m  isapprox(\u001b[91m::Missing\u001b[39m, ::Any; kwargs...)\n",
      "  \u001b[0m\u001b[90m   @\u001b[39m \u001b[90mBase\u001b[39m \u001b[90m\u001b[4mmissing.jl:90\u001b[24m\u001b[39m\n",
      "  \u001b[0m  isapprox(::Any, \u001b[91m::Missing\u001b[39m; kwargs...)\n",
      "  \u001b[0m\u001b[90m   @\u001b[39m \u001b[90mBase\u001b[39m \u001b[90m\u001b[4mmissing.jl:91\u001b[24m\u001b[39m\n",
      "  \u001b[0m  ...\n",
      "  \n",
      "  Stacktrace:\n",
      "   [1] \u001b[0m\u001b[1mmacro expansion\u001b[22m\n",
      "  \u001b[90m   @\u001b[39m \u001b[90m~/.julia/juliaup/julia-1.11.1+0.aarch64.apple.darwin14/share/julia/stdlib/v1.11/Test/src/\u001b[39m\u001b[90m\u001b[4mTest.jl:676\u001b[24m\u001b[39m\u001b[90m [inlined]\u001b[39m\n",
      "   [2] \u001b[0m\u001b[1mmacro expansion\u001b[22m\n",
      "  \u001b[90m   @\u001b[39m \u001b[90m\u001b[4mIn[66]:27\u001b[24m\u001b[39m\u001b[90m [inlined]\u001b[39m\n",
      "   [3] \u001b[0m\u001b[1mmacro expansion\u001b[22m\n",
      "  \u001b[90m   @\u001b[39m \u001b[90m~/.julia/juliaup/julia-1.11.1+0.aarch64.apple.darwin14/share/julia/stdlib/v1.11/Test/src/\u001b[39m\u001b[90m\u001b[4mTest.jl:1700\u001b[24m\u001b[39m\u001b[90m [inlined]\u001b[39m\n",
      "   [4] \u001b[0m\u001b[1mmacro expansion\u001b[22m\n",
      "  \u001b[90m   @\u001b[39m \u001b[90m\u001b[4mIn[66]:21\u001b[24m\u001b[39m\u001b[90m [inlined]\u001b[39m\n",
      "   [5] \u001b[0m\u001b[1mmacro expansion\u001b[22m\n",
      "  \u001b[90m   @\u001b[39m \u001b[90m~/.julia/juliaup/julia-1.11.1+0.aarch64.apple.darwin14/share/julia/stdlib/v1.11/Test/src/\u001b[39m\u001b[90m\u001b[4mTest.jl:1700\u001b[24m\u001b[39m\u001b[90m [inlined]\u001b[39m\n",
      "   [6] top-level scope\n",
      "  \u001b[90m   @\u001b[39m \u001b[90m\u001b[4mIn[66]:4\u001b[24m\u001b[39m\n",
      "Task 3: POP calculations: \u001b[91m\u001b[1mError During Test\u001b[22m\u001b[39m at \u001b[39m\u001b[1mIn[66]:28\u001b[22m\n",
      "  Test threw exception\n",
      "  Expression: isempty(X) == false\n",
      "  UndefVarError: `X` not defined in `Main`\n",
      "  Suggestion: check for spelling errors or missing imports.\n",
      "  Stacktrace:\n",
      "   [1] \u001b[0m\u001b[1mmacro expansion\u001b[22m\n",
      "  \u001b[90m   @\u001b[39m \u001b[90m~/.julia/juliaup/julia-1.11.1+0.aarch64.apple.darwin14/share/julia/stdlib/v1.11/Test/src/\u001b[39m\u001b[90m\u001b[4mTest.jl:676\u001b[24m\u001b[39m\u001b[90m [inlined]\u001b[39m\n",
      "   [2] \u001b[0m\u001b[1mmacro expansion\u001b[22m\n",
      "  \u001b[90m   @\u001b[39m \u001b[90m\u001b[4mIn[66]:28\u001b[24m\u001b[39m\u001b[90m [inlined]\u001b[39m\n",
      "   [3] \u001b[0m\u001b[1mmacro expansion\u001b[22m\n",
      "  \u001b[90m   @\u001b[39m \u001b[90m~/.julia/juliaup/julia-1.11.1+0.aarch64.apple.darwin14/share/julia/stdlib/v1.11/Test/src/\u001b[39m\u001b[90m\u001b[4mTest.jl:1700\u001b[24m\u001b[39m\u001b[90m [inlined]\u001b[39m\n",
      "   [4] \u001b[0m\u001b[1mmacro expansion\u001b[22m\n",
      "  \u001b[90m   @\u001b[39m \u001b[90m\u001b[4mIn[66]:21\u001b[24m\u001b[39m\u001b[90m [inlined]\u001b[39m\n",
      "   [5] \u001b[0m\u001b[1mmacro expansion\u001b[22m\n",
      "  \u001b[90m   @\u001b[39m \u001b[90m~/.julia/juliaup/julia-1.11.1+0.aarch64.apple.darwin14/share/julia/stdlib/v1.11/Test/src/\u001b[39m\u001b[90m\u001b[4mTest.jl:1700\u001b[24m\u001b[39m\u001b[90m [inlined]\u001b[39m\n",
      "   [6] top-level scope\n",
      "  \u001b[90m   @\u001b[39m \u001b[90m\u001b[4mIn[66]:4\u001b[24m\u001b[39m\n",
      "Task 3: POP calculations: \u001b[91m\u001b[1mTest Failed\u001b[22m\u001b[39m at \u001b[39m\u001b[1mIn[66]:29\u001b[22m\n",
      "  Expression: do_I_see_the_POP_table == true\n",
      "   Evaluated: false == true\n",
      "\n",
      "Stacktrace:\n",
      " [1] \u001b[0m\u001b[1mmacro expansion\u001b[22m\n",
      "\u001b[90m   @\u001b[39m \u001b[90m~/.julia/juliaup/julia-1.11.1+0.aarch64.apple.darwin14/share/julia/stdlib/v1.11/Test/src/\u001b[39m\u001b[90m\u001b[4mTest.jl:679\u001b[24m\u001b[39m\u001b[90m [inlined]\u001b[39m\n",
      " [2] \u001b[0m\u001b[1mmacro expansion\u001b[22m\n",
      "\u001b[90m   @\u001b[39m \u001b[90m\u001b[4mIn[66]:29\u001b[24m\u001b[39m\u001b[90m [inlined]\u001b[39m\n",
      " [3] \u001b[0m\u001b[1mmacro expansion\u001b[22m\n",
      "\u001b[90m   @\u001b[39m \u001b[90m~/.julia/juliaup/julia-1.11.1+0.aarch64.apple.darwin14/share/julia/stdlib/v1.11/Test/src/\u001b[39m\u001b[90m\u001b[4mTest.jl:1700\u001b[24m\u001b[39m\u001b[90m [inlined]\u001b[39m\n",
      " [4] \u001b[0m\u001b[1mmacro expansion\u001b[22m\n",
      "\u001b[90m   @\u001b[39m \u001b[90m\u001b[4mIn[66]:21\u001b[24m\u001b[39m\u001b[90m [inlined]\u001b[39m\n",
      " [5] \u001b[0m\u001b[1mmacro expansion\u001b[22m\n",
      "\u001b[90m   @\u001b[39m \u001b[90m~/.julia/juliaup/julia-1.11.1+0.aarch64.apple.darwin14/share/julia/stdlib/v1.11/Test/src/\u001b[39m\u001b[90m\u001b[4mTest.jl:1700\u001b[24m\u001b[39m\u001b[90m [inlined]\u001b[39m\n",
      " [6] top-level scope\n",
      "\u001b[90m   @\u001b[39m \u001b[90m\u001b[4mIn[66]:4\u001b[24m\u001b[39m\n",
      "Task 3: POP calculations: \u001b[91m\u001b[1mTest Failed\u001b[22m\u001b[39m at \u001b[39m\u001b[1mIn[66]:30\u001b[22m\n",
      "  Expression: (p_downside_loss_gbm isa Number) == true\n",
      "   Evaluated: false == true\n",
      "\n",
      "Stacktrace:\n",
      " [1] \u001b[0m\u001b[1mmacro expansion\u001b[22m\n",
      "\u001b[90m   @\u001b[39m \u001b[90m~/.julia/juliaup/julia-1.11.1+0.aarch64.apple.darwin14/share/julia/stdlib/v1.11/Test/src/\u001b[39m\u001b[90m\u001b[4mTest.jl:679\u001b[24m\u001b[39m\u001b[90m [inlined]\u001b[39m\n",
      " [2] \u001b[0m\u001b[1mmacro expansion\u001b[22m\n",
      "\u001b[90m   @\u001b[39m \u001b[90m\u001b[4mIn[66]:30\u001b[24m\u001b[39m\u001b[90m [inlined]\u001b[39m\n",
      " [3] \u001b[0m\u001b[1mmacro expansion\u001b[22m\n",
      "\u001b[90m   @\u001b[39m \u001b[90m~/.julia/juliaup/julia-1.11.1+0.aarch64.apple.darwin14/share/julia/stdlib/v1.11/Test/src/\u001b[39m\u001b[90m\u001b[4mTest.jl:1700\u001b[24m\u001b[39m\u001b[90m [inlined]\u001b[39m\n",
      " [4] \u001b[0m\u001b[1mmacro expansion\u001b[22m\n",
      "\u001b[90m   @\u001b[39m \u001b[90m\u001b[4mIn[66]:21\u001b[24m\u001b[39m\u001b[90m [inlined]\u001b[39m\n",
      " [5] \u001b[0m\u001b[1mmacro expansion\u001b[22m\n",
      "\u001b[90m   @\u001b[39m \u001b[90m~/.julia/juliaup/julia-1.11.1+0.aarch64.apple.darwin14/share/julia/stdlib/v1.11/Test/src/\u001b[39m\u001b[90m\u001b[4mTest.jl:1700\u001b[24m\u001b[39m\u001b[90m [inlined]\u001b[39m\n",
      " [6] top-level scope\n",
      "\u001b[90m   @\u001b[39m \u001b[90m\u001b[4mIn[66]:4\u001b[24m\u001b[39m\n",
      "Task 3: POP calculations: \u001b[91m\u001b[1mTest Failed\u001b[22m\u001b[39m at \u001b[39m\u001b[1mIn[66]:31\u001b[22m\n",
      "  Expression: (p_downside_loss_IV isa Number) == true\n",
      "   Evaluated: false == true\n",
      "\n",
      "Stacktrace:\n",
      " [1] \u001b[0m\u001b[1mmacro expansion\u001b[22m\n",
      "\u001b[90m   @\u001b[39m \u001b[90m~/.julia/juliaup/julia-1.11.1+0.aarch64.apple.darwin14/share/julia/stdlib/v1.11/Test/src/\u001b[39m\u001b[90m\u001b[4mTest.jl:679\u001b[24m\u001b[39m\u001b[90m [inlined]\u001b[39m\n",
      " [2] \u001b[0m\u001b[1mmacro expansion\u001b[22m\n",
      "\u001b[90m   @\u001b[39m \u001b[90m\u001b[4mIn[66]:31\u001b[24m\u001b[39m\u001b[90m [inlined]\u001b[39m\n",
      " [3] \u001b[0m\u001b[1mmacro expansion\u001b[22m\n",
      "\u001b[90m   @\u001b[39m \u001b[90m~/.julia/juliaup/julia-1.11.1+0.aarch64.apple.darwin14/share/julia/stdlib/v1.11/Test/src/\u001b[39m\u001b[90m\u001b[4mTest.jl:1700\u001b[24m\u001b[39m\u001b[90m [inlined]\u001b[39m\n",
      " [4] \u001b[0m\u001b[1mmacro expansion\u001b[22m\n",
      "\u001b[90m   @\u001b[39m \u001b[90m\u001b[4mIn[66]:21\u001b[24m\u001b[39m\u001b[90m [inlined]\u001b[39m\n",
      " [5] \u001b[0m\u001b[1mmacro expansion\u001b[22m\n",
      "\u001b[90m   @\u001b[39m \u001b[90m~/.julia/juliaup/julia-1.11.1+0.aarch64.apple.darwin14/share/julia/stdlib/v1.11/Test/src/\u001b[39m\u001b[90m\u001b[4mTest.jl:1700\u001b[24m\u001b[39m\u001b[90m [inlined]\u001b[39m\n",
      " [6] top-level scope\n",
      "\u001b[90m   @\u001b[39m \u001b[90m\u001b[4mIn[66]:4\u001b[24m\u001b[39m\n",
      "Task 3: POP calculations: \u001b[91m\u001b[1mTest Failed\u001b[22m\u001b[39m at \u001b[39m\u001b[1mIn[66]:32\u001b[22m\n",
      "  Expression: (p_upside_loss_gbm isa Number) == true\n",
      "   Evaluated: false == true\n",
      "\n",
      "Stacktrace:\n",
      " [1] \u001b[0m\u001b[1mmacro expansion\u001b[22m\n",
      "\u001b[90m   @\u001b[39m \u001b[90m~/.julia/juliaup/julia-1.11.1+0.aarch64.apple.darwin14/share/julia/stdlib/v1.11/Test/src/\u001b[39m\u001b[90m\u001b[4mTest.jl:679\u001b[24m\u001b[39m\u001b[90m [inlined]\u001b[39m\n",
      " [2] \u001b[0m\u001b[1mmacro expansion\u001b[22m\n",
      "\u001b[90m   @\u001b[39m \u001b[90m\u001b[4mIn[66]:32\u001b[24m\u001b[39m\u001b[90m [inlined]\u001b[39m\n",
      " [3] \u001b[0m\u001b[1mmacro expansion\u001b[22m\n",
      "\u001b[90m   @\u001b[39m \u001b[90m~/.julia/juliaup/julia-1.11.1+0.aarch64.apple.darwin14/share/julia/stdlib/v1.11/Test/src/\u001b[39m\u001b[90m\u001b[4mTest.jl:1700\u001b[24m\u001b[39m\u001b[90m [inlined]\u001b[39m\n",
      " [4] \u001b[0m\u001b[1mmacro expansion\u001b[22m\n",
      "\u001b[90m   @\u001b[39m \u001b[90m\u001b[4mIn[66]:21\u001b[24m\u001b[39m\u001b[90m [inlined]\u001b[39m\n",
      " [5] \u001b[0m\u001b[1mmacro expansion\u001b[22m\n",
      "\u001b[90m   @\u001b[39m \u001b[90m~/.julia/juliaup/julia-1.11.1+0.aarch64.apple.darwin14/share/julia/stdlib/v1.11/Test/src/\u001b[39m\u001b[90m\u001b[4mTest.jl:1700\u001b[24m\u001b[39m\u001b[90m [inlined]\u001b[39m\n",
      " [6] top-level scope\n",
      "\u001b[90m   @\u001b[39m \u001b[90m\u001b[4mIn[66]:4\u001b[24m\u001b[39m\n",
      "Task 3: POP calculations: \u001b[91m\u001b[1mTest Failed\u001b[22m\u001b[39m at \u001b[39m\u001b[1mIn[66]:33\u001b[22m\n",
      "  Expression: (p_upside_loss_IV isa Number) == true\n",
      "   Evaluated: false == true\n",
      "\n",
      "Stacktrace:\n",
      " [1] \u001b[0m\u001b[1mmacro expansion\u001b[22m\n",
      "\u001b[90m   @\u001b[39m \u001b[90m~/.julia/juliaup/julia-1.11.1+0.aarch64.apple.darwin14/share/julia/stdlib/v1.11/Test/src/\u001b[39m\u001b[90m\u001b[4mTest.jl:679\u001b[24m\u001b[39m\u001b[90m [inlined]\u001b[39m\n",
      " [2] \u001b[0m\u001b[1mmacro expansion\u001b[22m\n",
      "\u001b[90m   @\u001b[39m \u001b[90m\u001b[4mIn[66]:33\u001b[24m\u001b[39m\u001b[90m [inlined]\u001b[39m\n",
      " [3] \u001b[0m\u001b[1mmacro expansion\u001b[22m\n",
      "\u001b[90m   @\u001b[39m \u001b[90m~/.julia/juliaup/julia-1.11.1+0.aarch64.apple.darwin14/share/julia/stdlib/v1.11/Test/src/\u001b[39m\u001b[90m\u001b[4mTest.jl:1700\u001b[24m\u001b[39m\u001b[90m [inlined]\u001b[39m\n",
      " [4] \u001b[0m\u001b[1mmacro expansion\u001b[22m\n",
      "\u001b[90m   @\u001b[39m \u001b[90m\u001b[4mIn[66]:21\u001b[24m\u001b[39m\u001b[90m [inlined]\u001b[39m\n",
      " [5] \u001b[0m\u001b[1mmacro expansion\u001b[22m\n",
      "\u001b[90m   @\u001b[39m \u001b[90m~/.julia/juliaup/julia-1.11.1+0.aarch64.apple.darwin14/share/julia/stdlib/v1.11/Test/src/\u001b[39m\u001b[90m\u001b[4mTest.jl:1700\u001b[24m\u001b[39m\u001b[90m [inlined]\u001b[39m\n",
      " [6] top-level scope\n",
      "\u001b[90m   @\u001b[39m \u001b[90m\u001b[4mIn[66]:4\u001b[24m\u001b[39m\n",
      "Task 3: POP calculations: \u001b[91m\u001b[1mTest Failed\u001b[22m\u001b[39m at \u001b[39m\u001b[1mIn[66]:34\u001b[22m\n",
      "  Expression: (p_max_profit_gbm isa Number) == true\n",
      "   Evaluated: false == true\n",
      "\n",
      "Stacktrace:\n",
      " [1] \u001b[0m\u001b[1mmacro expansion\u001b[22m\n",
      "\u001b[90m   @\u001b[39m \u001b[90m~/.julia/juliaup/julia-1.11.1+0.aarch64.apple.darwin14/share/julia/stdlib/v1.11/Test/src/\u001b[39m\u001b[90m\u001b[4mTest.jl:679\u001b[24m\u001b[39m\u001b[90m [inlined]\u001b[39m\n",
      " [2] \u001b[0m\u001b[1mmacro expansion\u001b[22m\n",
      "\u001b[90m   @\u001b[39m \u001b[90m\u001b[4mIn[66]:34\u001b[24m\u001b[39m\u001b[90m [inlined]\u001b[39m\n",
      " [3] \u001b[0m\u001b[1mmacro expansion\u001b[22m\n",
      "\u001b[90m   @\u001b[39m \u001b[90m~/.julia/juliaup/julia-1.11.1+0.aarch64.apple.darwin14/share/julia/stdlib/v1.11/Test/src/\u001b[39m\u001b[90m\u001b[4mTest.jl:1700\u001b[24m\u001b[39m\u001b[90m [inlined]\u001b[39m\n",
      " [4] \u001b[0m\u001b[1mmacro expansion\u001b[22m\n",
      "\u001b[90m   @\u001b[39m \u001b[90m\u001b[4mIn[66]:21\u001b[24m\u001b[39m\u001b[90m [inlined]\u001b[39m\n",
      " [5] \u001b[0m\u001b[1mmacro expansion\u001b[22m\n",
      "\u001b[90m   @\u001b[39m \u001b[90m~/.julia/juliaup/julia-1.11.1+0.aarch64.apple.darwin14/share/julia/stdlib/v1.11/Test/src/\u001b[39m\u001b[90m\u001b[4mTest.jl:1700\u001b[24m\u001b[39m\u001b[90m [inlined]\u001b[39m\n",
      " [6] top-level scope\n",
      "\u001b[90m   @\u001b[39m \u001b[90m\u001b[4mIn[66]:4\u001b[24m\u001b[39m\n",
      "Task 3: POP calculations: \u001b[91m\u001b[1mTest Failed\u001b[22m\u001b[39m at \u001b[39m\u001b[1mIn[66]:35\u001b[22m\n",
      "  Expression: (p_max_profit_IV isa Number) == true\n",
      "   Evaluated: false == true\n",
      "\n",
      "Stacktrace:\n",
      " [1] \u001b[0m\u001b[1mmacro expansion\u001b[22m\n",
      "\u001b[90m   @\u001b[39m \u001b[90m~/.julia/juliaup/julia-1.11.1+0.aarch64.apple.darwin14/share/julia/stdlib/v1.11/Test/src/\u001b[39m\u001b[90m\u001b[4mTest.jl:679\u001b[24m\u001b[39m\u001b[90m [inlined]\u001b[39m\n",
      " [2] \u001b[0m\u001b[1mmacro expansion\u001b[22m\n",
      "\u001b[90m   @\u001b[39m \u001b[90m\u001b[4mIn[66]:35\u001b[24m\u001b[39m\u001b[90m [inlined]\u001b[39m\n",
      " [3] \u001b[0m\u001b[1mmacro expansion\u001b[22m\n",
      "\u001b[90m   @\u001b[39m \u001b[90m~/.julia/juliaup/julia-1.11.1+0.aarch64.apple.darwin14/share/julia/stdlib/v1.11/Test/src/\u001b[39m\u001b[90m\u001b[4mTest.jl:1700\u001b[24m\u001b[39m\u001b[90m [inlined]\u001b[39m\n",
      " [4] \u001b[0m\u001b[1mmacro expansion\u001b[22m\n",
      "\u001b[90m   @\u001b[39m \u001b[90m\u001b[4mIn[66]:21\u001b[24m\u001b[39m\u001b[90m [inlined]\u001b[39m\n",
      " [5] \u001b[0m\u001b[1mmacro expansion\u001b[22m\n",
      "\u001b[90m   @\u001b[39m \u001b[90m~/.julia/juliaup/julia-1.11.1+0.aarch64.apple.darwin14/share/julia/stdlib/v1.11/Test/src/\u001b[39m\u001b[90m\u001b[4mTest.jl:1700\u001b[24m\u001b[39m\u001b[90m [inlined]\u001b[39m\n",
      " [6] top-level scope\n",
      "\u001b[90m   @\u001b[39m \u001b[90m\u001b[4mIn[66]:4\u001b[24m\u001b[39m\n",
      "\u001b[0m\u001b[1mTest Summary:                                                 | \u001b[22m\u001b[32m\u001b[1mPass  \u001b[22m\u001b[39m\u001b[91m\u001b[1mFail  \u001b[22m\u001b[39m\u001b[91m\u001b[1mError  \u001b[22m\u001b[39m\u001b[36m\u001b[1mTotal  \u001b[22m\u001b[39m\u001b[0m\u001b[1mTime\u001b[22m\n",
      "CHEME 5660 problem set 5 test suite                           | \u001b[32m   5  \u001b[39m\u001b[91m   9  \u001b[39m\u001b[91m   11  \u001b[39m\u001b[36m   25  \u001b[39m\u001b[0m1.4s\n",
      "  Task 1: Call and Put contract data                          | \u001b[32m   4  \u001b[39m\u001b[91m      \u001b[39m\u001b[91m       \u001b[39m\u001b[36m    4  \u001b[39m\u001b[0m0.2s\n",
      "  Task 2: Build Contract models, profit diagram and breakeven | \u001b[32m      \u001b[39m\u001b[91m   1  \u001b[39m\u001b[91m    5  \u001b[39m\u001b[36m    6  \u001b[39m\u001b[0m1.1s\n",
      "  Task 3: POP calculations                                    | \u001b[32m   1  \u001b[39m\u001b[91m   8  \u001b[39m\u001b[91m    6  \u001b[39m\u001b[36m   15  \u001b[39m\u001b[0m0.1s\n"
     ]
    },
    {
     "ename": "LoadError",
     "evalue": "\u001b[91mSome tests did not pass: 5 passed, 9 failed, 11 errored, 0 broken.\u001b[39m",
     "output_type": "error",
     "traceback": [
      "\u001b[91mSome tests did not pass: 5 passed, 9 failed, 11 errored, 0 broken.\u001b[39m",
      "",
      "Stacktrace:",
      " [1] finish(ts::Test.DefaultTestSet; print_results::Bool)",
      "   @ Test ~/.julia/juliaup/julia-1.11.1+0.aarch64.apple.darwin14/share/julia/stdlib/v1.11/Test/src/Test.jl:1254",
      " [2] finish(ts::Test.DefaultTestSet)",
      "   @ Test ~/.julia/juliaup/julia-1.11.1+0.aarch64.apple.darwin14/share/julia/stdlib/v1.11/Test/src/Test.jl:1229",
      " [3] macro expansion",
      "   @ ~/.julia/juliaup/julia-1.11.1+0.aarch64.apple.darwin14/share/julia/stdlib/v1.11/Test/src/Test.jl:1716 [inlined]",
      " [4] top-level scope",
      "   @ In[66]:4"
     ]
    }
   ],
   "source": [
    "let \n",
    "    @testset verbose = true \"CHEME 5660 problem set 5 test suite\" begin\n",
    "\n",
    "        @testset \"Task 1: Call and Put contract data\" begin\n",
    "            @test isempty(put_contracts) == false\n",
    "            @test isempty(call_contracts) == false\n",
    "            @test length(call_leg_data) == 11\n",
    "            @test length(put_leg_data) == 11\n",
    "        end\n",
    "\n",
    "        @testset \"Task 2: Build Contract models, profit diagram and breakeven\" begin\n",
    "            @test typeof(put_contract_model) == MyAmericanPutContractModel \n",
    "            @test typeof(call_contract_model) == MyAmericanCallContractModel\n",
    "            @test isempty(profit_array) == false\n",
    "            @test isa(B_low, Number) == true\n",
    "            @test isa(B_high,Number) == true\n",
    "            @test do_I_see_the_profit_loss_plot == true\n",
    "        end\n",
    "\n",
    "        @testset \"Task 3: POP calculations\" begin\n",
    "            @test typeof(model) == MyGeometricBrownianMotionEquityModel\n",
    "            @test isa(σ̄, Number) == true\n",
    "            @test (σ̄ > 0) == true\n",
    "            @test isempty(endpoint) == false\n",
    "            @test do_I_see_the_share_price_plot == true\n",
    "            @test do_I_see_the_CDF_plot == true\n",
    "            @test isapprox(estimated_probability_of_90_USD_per_share_at_expiration,0.70) == true\n",
    "            @test isempty(X) == false\n",
    "            @test do_I_see_the_POP_table == true\n",
    "            @test isa(p_downside_loss_gbm,Number) == true\n",
    "            @test isa(p_downside_loss_IV,Number) == true\n",
    "            @test isa(p_upside_loss_gbm,Number) == true\n",
    "            @test isa(p_upside_loss_IV,Number) == true\n",
    "            @test isa(p_max_profit_gbm,Number) == true\n",
    "            @test isa(p_max_profit_IV,Number) == true\n",
    "        end \n",
    "    end\n",
    "end;"
   ]
  },
  {
   "cell_type": "markdown",
   "id": "7bb8e0f3-7a9f-4924-8e71-a905ddda66da",
   "metadata": {},
   "source": [
    "## Disclaimer and Risks\n",
    "__This content is offered solely for training and informational purposes__. No offer or solicitation to buy or sell securities or derivative products or any investment or trading advice or strategy is made, given, or endorsed by the teaching team. \n",
    "\n",
    "__Trading involves risk__. Carefully review your financial situation before investing in securities, futures contracts, options, or commodity interests. Past performance, whether actual or indicated by historical tests of strategies, is no guarantee of future performance or success. Trading is generally inappropriate for someone with limited resources, investment or trading experience, or a low-risk tolerance.  Only risk capital that is not required for living expenses.\n",
    "\n",
    "__You are fully responsible for any investment or trading decisions you make__. Such decisions should be based solely on evaluating your financial circumstances, investment or trading objectives, risk tolerance, and liquidity needs."
   ]
  }
 ],
 "metadata": {
  "kernelspec": {
   "display_name": "Julia 1.11.1",
   "language": "julia",
   "name": "julia-1.11"
  },
  "language_info": {
   "file_extension": ".jl",
   "mimetype": "application/julia",
   "name": "julia",
   "version": "1.11.1"
  }
 },
 "nbformat": 4,
 "nbformat_minor": 5
}
